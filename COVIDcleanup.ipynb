{
 "cells": [
  {
   "cell_type": "code",
   "execution_count": 1,
   "metadata": {},
   "outputs": [],
   "source": [
    "import pandas as pd\n",
    "import numpy as np\n",
    "import matplotlib.pyplot as plt\n",
    "%matplotlib inline\n",
    "import zipfile"
   ]
  },
  {
   "cell_type": "code",
   "execution_count": 2,
   "metadata": {},
   "outputs": [
    {
     "data": {
      "text/html": [
       "<div>\n",
       "<style scoped>\n",
       "    .dataframe tbody tr th:only-of-type {\n",
       "        vertical-align: middle;\n",
       "    }\n",
       "\n",
       "    .dataframe tbody tr th {\n",
       "        vertical-align: top;\n",
       "    }\n",
       "\n",
       "    .dataframe thead th {\n",
       "        text-align: right;\n",
       "    }\n",
       "</style>\n",
       "<table border=\"1\" class=\"dataframe\">\n",
       "  <thead>\n",
       "    <tr style=\"text-align: right;\">\n",
       "      <th></th>\n",
       "      <th>Unnamed: 0</th>\n",
       "      <th>Unnamed: 0.1</th>\n",
       "      <th>ID</th>\n",
       "      <th>age</th>\n",
       "      <th>sex</th>\n",
       "      <th>city</th>\n",
       "      <th>province</th>\n",
       "      <th>country</th>\n",
       "      <th>latitude</th>\n",
       "      <th>longitude</th>\n",
       "      <th>...</th>\n",
       "      <th>location</th>\n",
       "      <th>admin3</th>\n",
       "      <th>admin2</th>\n",
       "      <th>admin1</th>\n",
       "      <th>country_new</th>\n",
       "      <th>admin_id</th>\n",
       "      <th>data_moderator_initials</th>\n",
       "      <th>travel_history_binary</th>\n",
       "      <th>hospitalized</th>\n",
       "      <th>deceased</th>\n",
       "    </tr>\n",
       "  </thead>\n",
       "  <tbody>\n",
       "    <tr>\n",
       "      <th>0</th>\n",
       "      <td>0</td>\n",
       "      <td>0</td>\n",
       "      <td>000-1-1</td>\n",
       "      <td>NaN</td>\n",
       "      <td>male</td>\n",
       "      <td>Shek Lei</td>\n",
       "      <td>Hong Kong</td>\n",
       "      <td>China</td>\n",
       "      <td>22.365019</td>\n",
       "      <td>114.133808</td>\n",
       "      <td>...</td>\n",
       "      <td>Shek Lei</td>\n",
       "      <td>NaN</td>\n",
       "      <td>NaN</td>\n",
       "      <td>Hong Kong</td>\n",
       "      <td>China</td>\n",
       "      <td>8051.0</td>\n",
       "      <td>NaN</td>\n",
       "      <td>NaN</td>\n",
       "      <td>1</td>\n",
       "      <td>0</td>\n",
       "    </tr>\n",
       "    <tr>\n",
       "      <th>1</th>\n",
       "      <td>1</td>\n",
       "      <td>1</td>\n",
       "      <td>000-1-10</td>\n",
       "      <td>78</td>\n",
       "      <td>male</td>\n",
       "      <td>Vo Euganeo</td>\n",
       "      <td>Veneto</td>\n",
       "      <td>Italy</td>\n",
       "      <td>45.297748</td>\n",
       "      <td>11.658382</td>\n",
       "      <td>...</td>\n",
       "      <td>Vo' Euganeo</td>\n",
       "      <td>NaN</td>\n",
       "      <td>NaN</td>\n",
       "      <td>Veneto</td>\n",
       "      <td>Italy</td>\n",
       "      <td>8978.0</td>\n",
       "      <td>NaN</td>\n",
       "      <td>NaN</td>\n",
       "      <td>0</td>\n",
       "      <td>1</td>\n",
       "    </tr>\n",
       "    <tr>\n",
       "      <th>2</th>\n",
       "      <td>2</td>\n",
       "      <td>2</td>\n",
       "      <td>000-1-100</td>\n",
       "      <td>61</td>\n",
       "      <td>female</td>\n",
       "      <td>NaN</td>\n",
       "      <td>NaN</td>\n",
       "      <td>Singapore</td>\n",
       "      <td>1.353460</td>\n",
       "      <td>103.815100</td>\n",
       "      <td>...</td>\n",
       "      <td>NaN</td>\n",
       "      <td>NaN</td>\n",
       "      <td>NaN</td>\n",
       "      <td>NaN</td>\n",
       "      <td>Singapore</td>\n",
       "      <td>201.0</td>\n",
       "      <td>NaN</td>\n",
       "      <td>NaN</td>\n",
       "      <td>0</td>\n",
       "      <td>0</td>\n",
       "    </tr>\n",
       "  </tbody>\n",
       "</table>\n",
       "<p>3 rows × 37 columns</p>\n",
       "</div>"
      ],
      "text/plain": [
       "   Unnamed: 0  Unnamed: 0.1         ID  age     sex        city   province  \\\n",
       "0           0             0    000-1-1  NaN    male    Shek Lei  Hong Kong   \n",
       "1           1             1   000-1-10   78    male  Vo Euganeo     Veneto   \n",
       "2           2             2  000-1-100   61  female         NaN        NaN   \n",
       "\n",
       "     country   latitude   longitude  ...     location admin3 admin2  \\\n",
       "0      China  22.365019  114.133808  ...     Shek Lei    NaN    NaN   \n",
       "1      Italy  45.297748   11.658382  ...  Vo' Euganeo    NaN    NaN   \n",
       "2  Singapore   1.353460  103.815100  ...          NaN    NaN    NaN   \n",
       "\n",
       "      admin1 country_new admin_id data_moderator_initials  \\\n",
       "0  Hong Kong       China   8051.0                     NaN   \n",
       "1     Veneto       Italy   8978.0                     NaN   \n",
       "2        NaN   Singapore    201.0                     NaN   \n",
       "\n",
       "  travel_history_binary hospitalized deceased  \n",
       "0                   NaN            1        0  \n",
       "1                   NaN            0        1  \n",
       "2                   NaN            0        0  \n",
       "\n",
       "[3 rows x 37 columns]"
      ]
     },
     "execution_count": 2,
     "metadata": {},
     "output_type": "execute_result"
    }
   ],
   "source": [
    "covid = pd.read_csv(\"covid19_cleaned.zip\", low_memory = False)\n",
    "covid[:3]"
   ]
  },
  {
   "cell_type": "code",
   "execution_count": 3,
   "metadata": {},
   "outputs": [
    {
     "name": "stdout",
     "output_type": "stream",
     "text": [
      "(2310111, 25)\n"
     ]
    }
   ],
   "source": [
    "dropcols = [\"admin_id\", \"notes_for_discussion\", \"source\",\n",
    "            \"geo_resolution\", \"lives_in_Wuhan\", \"additional_information\",\n",
    "            \"sequence_available\", \"data_moderator_initials\", \"location\",\n",
    "           \"country_new\", \"Unnamed: 0\", \"Unnamed: 0.1\"]\n",
    "\n",
    "covid = covid.drop(covid[dropcols], axis = 1)\n",
    "print(covid.shape)"
   ]
  },
  {
   "cell_type": "code",
   "execution_count": 4,
   "metadata": {},
   "outputs": [],
   "source": [
    "#cleaning of the age column\n",
    "\n",
    "age = np.array(covid.age)\n",
    "sym = [\"weeks\", \"+\", \"-\", \" \"]\n",
    "for x,y in enumerate(age):\n",
    "    if type(y) is float:\n",
    "        age[x] = y\n",
    "    elif sym[0] in y:\n",
    "        age[x] = 0\n",
    "    elif sym[1] in y:\n",
    "        age[x] = y.replace('+','')\n",
    "        age[x] = int(round(float(age[x])))\n",
    "    elif sym[2] in y:\n",
    "        if len(y) >= 4:\n",
    "            mat = y.split(\"-\")\n",
    "            if \"Sep\" in mat:\n",
    "                age[x] = 0\n",
    "            else:\n",
    "                age[x] = (int(mat[0]) + int(mat[1]))/2\n",
    "        else:\n",
    "            age[x] = y.replace('-','')\n",
    "            age[x] = int(round(float(age[x])))\n",
    "    elif sym[3] in y:\n",
    "        num, month = y.split(\" \")\n",
    "        num = int(num)\n",
    "        if num < 6:\n",
    "            age[x] = 0\n",
    "        elif num >= 6 and num < 18:\n",
    "            age[x] = 1\n",
    "        else:\n",
    "            age[x] = 2\n",
    "for x,y in enumerate(age):\n",
    "    age[x] = float(y)\n",
    "covid[\"age\"] = age\n",
    "covid[\"age\"].fillna(covid[\"age\"].mean(), inplace = True)\n",
    "covid['age'] = covid['age'].astype(float)"
   ]
  },
  {
   "cell_type": "code",
   "execution_count": 5,
   "metadata": {},
   "outputs": [],
   "source": [
    "#converts bool to binary.\n",
    "\n",
    "covid.chronic_disease_binary = [1 if x == True else 0 for x in covid.chronic_disease_binary]"
   ]
  },
  {
   "cell_type": "code",
   "execution_count": 6,
   "metadata": {},
   "outputs": [],
   "source": [
    "#drop missing country values. conveniently drops missing lat and long vals.\n",
    "\n",
    "covid = covid.dropna(subset = [\"country\"])"
   ]
  },
  {
   "cell_type": "code",
   "execution_count": 7,
   "metadata": {},
   "outputs": [],
   "source": [
    "#nan becomes a zero, if they traveled it becomes a one\n",
    "\n",
    "covid.travel_history_binary = [1 if x == True else 0 for x in covid[\"travel_history_binary\"]]"
   ]
  },
  {
   "cell_type": "code",
   "execution_count": 8,
   "metadata": {},
   "outputs": [
    {
     "data": {
      "text/plain": [
       "female    1158147\n",
       "male      1151849\n",
       "Name: sex, dtype: int64"
      ]
     },
     "execution_count": 8,
     "metadata": {},
     "output_type": "execute_result"
    }
   ],
   "source": [
    "# craft a boolean array and for values False (NaN), cut in half and assign half female/male??\n",
    "\n",
    "sex_e = np.array([\"male\", \"female\"])\n",
    "sex = np.array(covid.sex)\n",
    "\n",
    "sex_is_bool = [True if x == \"male\" or x == \"female\" else False for x in covid[\"sex\"]]\n",
    "for x, y in enumerate(sex_is_bool):\n",
    "    if y == False:\n",
    "        sex[x] = np.random.choice(sex_e)\n",
    "covid.sex = sex\n",
    "covid.sex.value_counts()"
   ]
  },
  {
   "cell_type": "code",
   "execution_count": 9,
   "metadata": {},
   "outputs": [],
   "source": [
    "covid.to_csv(\"covid19cleaned_sexandothers.zip\", compression = \"zip\")"
   ]
  },
  {
   "cell_type": "code",
   "execution_count": null,
   "metadata": {
    "scrolled": true
   },
   "outputs": [],
   "source": []
  },
  {
   "cell_type": "code",
   "execution_count": null,
   "metadata": {},
   "outputs": [],
   "source": []
  }
 ],
 "metadata": {
  "kernelspec": {
   "display_name": "Python 3",
   "language": "python",
   "name": "python3"
  },
  "language_info": {
   "codemirror_mode": {
    "name": "ipython",
    "version": 3
   },
   "file_extension": ".py",
   "mimetype": "text/x-python",
   "name": "python",
   "nbconvert_exporter": "python",
   "pygments_lexer": "ipython3",
   "version": "3.7.6"
  }
 },
 "nbformat": 4,
 "nbformat_minor": 4
}
