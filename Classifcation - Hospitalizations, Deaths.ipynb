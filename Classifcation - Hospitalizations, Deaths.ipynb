{
 "cells": [
  {
   "cell_type": "code",
   "execution_count": 18,
   "metadata": {},
   "outputs": [],
   "source": [
    "# Imports & Settings\n",
    "from sklearn.neural_network import MLPClassifier as ANN\n",
    "from sklearn.metrics import accuracy_score, roc_curve\n",
    "from sklearn.model_selection import train_test_split\n",
    "from sklearn.model_selection import cross_validate\n",
    "from sklearn.metrics import roc_curve\n",
    "import pandas as pd\n",
    "import numpy as np\n",
    "import matplotlib.pyplot as plt\n",
    "\n",
    "pd.set_option('display.max_columns', None)"
   ]
  },
  {
   "cell_type": "code",
   "execution_count": 3,
   "metadata": {},
   "outputs": [],
   "source": [
    "DF = pd.read_csv(\"covid19_cleaned_8_10.zip\", low_memory = False)"
   ]
  },
  {
   "cell_type": "code",
   "execution_count": null,
   "metadata": {},
   "outputs": [],
   "source": []
  },
  {
   "cell_type": "code",
   "execution_count": 19,
   "metadata": {},
   "outputs": [
    {
     "data": {
      "text/plain": [
       "Index(['Unnamed: 0', 'ID', 'age', 'sex', 'city', 'province', 'country',\n",
       "       'latitude', 'longitude', 'date_onset_symptoms',\n",
       "       'date_admission_hospital', 'date_confirmation', 'symptoms',\n",
       "       'travel_history_dates', 'travel_history_location',\n",
       "       'reported_market_exposure', 'chronic_disease_binary', 'chronic_disease',\n",
       "       'outcome', 'date_death_or_discharge', 'admin3', 'admin2', 'admin1',\n",
       "       'travel_history_binary', 'hospitalized', 'deceased', 'fever', 'cough',\n",
       "       'fatigue', 'headache', 'dizziness', 'sore throat', 'pneumonia',\n",
       "       'respiratory', 'nausea', 'diarrhea', 'severe_r'],\n",
       "      dtype='object')"
      ]
     },
     "execution_count": 19,
     "metadata": {},
     "output_type": "execute_result"
    }
   ],
   "source": [
    "DF.columns"
   ]
  },
  {
   "cell_type": "code",
   "execution_count": 16,
   "metadata": {},
   "outputs": [],
   "source": [
    "# Neural net is refusing to run our machines--\n",
    "# However, it does run when we use only half the data.\n",
    "# Get the data training ready in this cell.\n",
    "\n",
    "# Our working dataframe:\n",
    "df_trimmed = DF\n",
    "\n",
    "# Get rid of some extra columns.\n",
    "df_trimmed = df_trimmed.drop(labels=[\"Unnamed: 0\", \"ID\"], axis=1)\n",
    "\n",
    "#boolify \"sex\"\n",
    "df_trimmed[\"sex\"] = [0 if s == \"male\" else 1 for s in df_trimmed[\"sex\"]]\n",
    "\n",
    "# Playing around with excluding our imputed age values.\n",
    "# ugly...\n",
    "# df_trimmed = df_trimmed[np.logical_not(np.logical_and(DF[\"age\"]>=49.0, DF[\"age\"]<=49.1))]\n",
    "\n",
    "# Randomly select half of the data.\n",
    "# (Thanks, Jorge.)\n",
    "random50 = np.random.choice(np.arange(len(df_trimmed)), size=int(len(df_trimmed) / 2), replace=False)\n",
    "df_trimmed = df_trimmed.iloc[random50,:]\n",
    "\n",
    "\n",
    "# Now add in Gulnaz's dummies.\n",
    "df_trimmed = pd.get_dummies(df_trimmed, columns=[\"country\"])\n"
   ]
  },
  {
   "cell_type": "code",
   "execution_count": 20,
   "metadata": {},
   "outputs": [
    {
     "data": {
      "text/plain": [
       "Index(['age', 'sex', 'city', 'province', 'latitude', 'longitude',\n",
       "       'date_onset_symptoms', 'date_admission_hospital', 'date_confirmation',\n",
       "       'symptoms',\n",
       "       ...\n",
       "       'country_Ukraine', 'country_United Arab Emirates',\n",
       "       'country_United Kingdom', 'country_United States', 'country_Uruguay',\n",
       "       'country_Venezuela', 'country_Vietnam', 'country_Virgin Islands, U.S.',\n",
       "       'country_Zambia', 'country_Zimbabwe'],\n",
       "      dtype='object', length=166)"
      ]
     },
     "execution_count": 20,
     "metadata": {},
     "output_type": "execute_result"
    }
   ],
   "source": [
    "df_trimmed.columns"
   ]
  },
  {
   "cell_type": "code",
   "execution_count": null,
   "metadata": {},
   "outputs": [],
   "source": []
  },
  {
   "cell_type": "code",
   "execution_count": 171,
   "metadata": {},
   "outputs": [],
   "source": [
    "df_before_concat = df_trimmed[[\"age\",\"chronic_disease_binary\",\"hospitalized\",\"deceased\",\"travel_history_binary\", \"country\"]]"
   ]
  },
  {
   "cell_type": "code",
   "execution_count": 172,
   "metadata": {},
   "outputs": [],
   "source": [
    "# Predicting gender\n",
    "dummies = pd.get_dummies(df_before_concat, columns=[\"country\"]) # turn country column into dummies \n",
    "X = pd.concat([df_before_concat, dummies] ,axis=1)\n",
    "X = X.drop(labels=\"country\", axis=1)\n",
    "Y = np.array(df_trimmed[\"sex\"])"
   ]
  },
  {
   "cell_type": "code",
   "execution_count": 182,
   "metadata": {
    "scrolled": true
   },
   "outputs": [],
   "source": [
    "# Single train test split\n",
    "model=ANN(hidden_layer_sizes=(16,8,4), max_iter=1000)"
   ]
  },
  {
   "cell_type": "code",
   "execution_count": 183,
   "metadata": {},
   "outputs": [],
   "source": [
    "xtrain,xtest,ytrain,ytest=train_test_split(X, Y) # I am using x standardized \n",
    "model.fit(xtrain,ytrain)\n",
    "YP=model.predict(xtest)\n",
    "sex_singleAccuracy = accuracy_score(ytest,YP)"
   ]
  },
  {
   "cell_type": "code",
   "execution_count": 181,
   "metadata": {},
   "outputs": [
    {
     "data": {
      "text/plain": [
       "0.5575309782190411"
      ]
     },
     "execution_count": 181,
     "metadata": {},
     "output_type": "execute_result"
    }
   ],
   "source": [
    "sex_singleAccuracy"
   ]
  },
  {
   "cell_type": "code",
   "execution_count": 184,
   "metadata": {},
   "outputs": [],
   "source": [
    "# Predicting deceased\n",
    "df_before_concat = df_trimmed[[\"age\",\"chronic_disease_binary\",\"hospitalized\",\"sex\",\"travel_history_binary\", \"country\"]]\n",
    "dummies = pd.get_dummies(df_before_concat, columns=[\"country\"]) # turn country column into dummies \n",
    "X = pd.concat([df_before_concat, dummies] ,axis=1)\n",
    "X = X.drop(labels=\"country\", axis=1)\n",
    "Y = np.array(df_trimmed[\"deceased\"])\n",
    "xtrain,xtest,ytrain,ytest=train_test_split(X, Y) # I am using x standardized \n",
    "model.fit(xtrain,ytrain)\n",
    "YP=model.predict(xtest)\n",
    "death_singleAccuracy = accuracy_score(ytest,YP)"
   ]
  },
  {
   "cell_type": "code",
   "execution_count": 185,
   "metadata": {},
   "outputs": [
    {
     "data": {
      "text/plain": [
       "0.9978963031375869"
      ]
     },
     "execution_count": 185,
     "metadata": {},
     "output_type": "execute_result"
    }
   ],
   "source": [
    "death_singleAccuracy"
   ]
  },
  {
   "cell_type": "code",
   "execution_count": 203,
   "metadata": {},
   "outputs": [],
   "source": [
    "# Predicting hospitalizations\n",
    "df_before_concat = df_trimmed[[\"age\",\"chronic_disease_binary\",\"deceased\",\"sex\",\"travel_history_binary\", \"country\"]]\n",
    "dummies = pd.get_dummies(df_before_concat, columns=[\"country\"]) # turn country column into dummies \n",
    "X = pd.concat([df_before_concat, dummies] ,axis=1)\n",
    "X = X.drop(labels=\"country\", axis=1)\n",
    "Y = np.array(df_trimmed[\"hospitalized\"])\n",
    "xtrain,xtest,ytrain,ytest=train_test_split(X, Y) # I am using x standardized \n",
    "model.fit(xtrain,ytrain)\n",
    "YP=model.predict(xtest)\n",
    "hospital_singleAccuracy = accuracy_score(ytest,YP)"
   ]
  },
  {
   "cell_type": "code",
   "execution_count": 204,
   "metadata": {},
   "outputs": [
    {
     "data": {
      "text/plain": [
       "0.9988711870494369"
      ]
     },
     "execution_count": 204,
     "metadata": {},
     "output_type": "execute_result"
    }
   ],
   "source": [
    "hospital_singleAccuracy"
   ]
  },
  {
   "cell_type": "code",
   "execution_count": 206,
   "metadata": {},
   "outputs": [
    {
     "data": {
      "image/png": "[encoded data removed]",
      "text/plain": [
       "<Figure size 432x432 with 1 Axes>"
      ]
     },
     "metadata": {
      "needs_background": "light"
     },
     "output_type": "display_data"
    }
   ],
   "source": [
    "probabilities = model.predict_proba(xtest)    \n",
    "FPR, TPR, THRESHOLD = roc_curve(ytest, probabilities[:,1])\n",
    "plt.plot(FPR,TPR,c=\"red\")\n",
    "plt.plot([0,1],[0,1],c=\"k\",ls=\"--\")\n",
    "plt.grid()\n",
    "plt.xlabel(\"False Positive Rate\",fontsize=14)\n",
    "plt.ylabel(\"True Positive Rate\",fontsize=14)\n",
    "plt.gcf().set_size_inches(6,6) "
   ]
  },
  {
   "cell_type": "code",
   "execution_count": 215,
   "metadata": {},
   "outputs": [
    {
     "data": {
      "text/html": [
       "<div>\n",
       "<style scoped>\n",
       "    .dataframe tbody tr th:only-of-type {\n",
       "        vertical-align: middle;\n",
       "    }\n",
       "\n",
       "    .dataframe tbody tr th {\n",
       "        vertical-align: top;\n",
       "    }\n",
       "\n",
       "    .dataframe thead th {\n",
       "        text-align: right;\n",
       "    }\n",
       "</style>\n",
       "<table border=\"1\" class=\"dataframe\">\n",
       "  <thead>\n",
       "    <tr style=\"text-align: right;\">\n",
       "      <th></th>\n",
       "      <th>age</th>\n",
       "      <th>chronic_disease_binary</th>\n",
       "      <th>deceased</th>\n",
       "      <th>sex</th>\n",
       "      <th>travel_history_binary</th>\n",
       "      <th>age</th>\n",
       "      <th>chronic_disease_binary</th>\n",
       "      <th>deceased</th>\n",
       "      <th>sex</th>\n",
       "      <th>travel_history_binary</th>\n",
       "      <th>...</th>\n",
       "      <th>country_Thailand</th>\n",
       "      <th>country_Togo</th>\n",
       "      <th>country_Tunisia</th>\n",
       "      <th>country_Uganda</th>\n",
       "      <th>country_Ukraine</th>\n",
       "      <th>country_United Arab Emirates</th>\n",
       "      <th>country_United Kingdom</th>\n",
       "      <th>country_United States</th>\n",
       "      <th>country_Vietnam</th>\n",
       "      <th>country_Zimbabwe</th>\n",
       "    </tr>\n",
       "  </thead>\n",
       "  <tbody>\n",
       "    <tr>\n",
       "      <th>897580</th>\n",
       "      <td>34.5</td>\n",
       "      <td>0</td>\n",
       "      <td>0</td>\n",
       "      <td>0</td>\n",
       "      <td>0</td>\n",
       "      <td>34.5</td>\n",
       "      <td>0</td>\n",
       "      <td>0</td>\n",
       "      <td>0</td>\n",
       "      <td>0</td>\n",
       "      <td>...</td>\n",
       "      <td>0</td>\n",
       "      <td>0</td>\n",
       "      <td>0</td>\n",
       "      <td>0</td>\n",
       "      <td>0</td>\n",
       "      <td>0</td>\n",
       "      <td>0</td>\n",
       "      <td>0</td>\n",
       "      <td>0</td>\n",
       "      <td>0</td>\n",
       "    </tr>\n",
       "    <tr>\n",
       "      <th>897544</th>\n",
       "      <td>54.5</td>\n",
       "      <td>0</td>\n",
       "      <td>0</td>\n",
       "      <td>0</td>\n",
       "      <td>0</td>\n",
       "      <td>54.5</td>\n",
       "      <td>0</td>\n",
       "      <td>0</td>\n",
       "      <td>0</td>\n",
       "      <td>0</td>\n",
       "      <td>...</td>\n",
       "      <td>0</td>\n",
       "      <td>0</td>\n",
       "      <td>0</td>\n",
       "      <td>0</td>\n",
       "      <td>0</td>\n",
       "      <td>0</td>\n",
       "      <td>0</td>\n",
       "      <td>0</td>\n",
       "      <td>0</td>\n",
       "      <td>0</td>\n",
       "    </tr>\n",
       "    <tr>\n",
       "      <th>513288</th>\n",
       "      <td>54.5</td>\n",
       "      <td>0</td>\n",
       "      <td>0</td>\n",
       "      <td>1</td>\n",
       "      <td>0</td>\n",
       "      <td>54.5</td>\n",
       "      <td>0</td>\n",
       "      <td>0</td>\n",
       "      <td>1</td>\n",
       "      <td>0</td>\n",
       "      <td>...</td>\n",
       "      <td>0</td>\n",
       "      <td>0</td>\n",
       "      <td>0</td>\n",
       "      <td>0</td>\n",
       "      <td>0</td>\n",
       "      <td>0</td>\n",
       "      <td>0</td>\n",
       "      <td>0</td>\n",
       "      <td>0</td>\n",
       "      <td>0</td>\n",
       "    </tr>\n",
       "    <tr>\n",
       "      <th>506284</th>\n",
       "      <td>64.5</td>\n",
       "      <td>0</td>\n",
       "      <td>0</td>\n",
       "      <td>0</td>\n",
       "      <td>0</td>\n",
       "      <td>64.5</td>\n",
       "      <td>0</td>\n",
       "      <td>0</td>\n",
       "      <td>0</td>\n",
       "      <td>0</td>\n",
       "      <td>...</td>\n",
       "      <td>0</td>\n",
       "      <td>0</td>\n",
       "      <td>0</td>\n",
       "      <td>0</td>\n",
       "      <td>0</td>\n",
       "      <td>0</td>\n",
       "      <td>0</td>\n",
       "      <td>0</td>\n",
       "      <td>0</td>\n",
       "      <td>0</td>\n",
       "    </tr>\n",
       "    <tr>\n",
       "      <th>1188167</th>\n",
       "      <td>69.5</td>\n",
       "      <td>0</td>\n",
       "      <td>0</td>\n",
       "      <td>1</td>\n",
       "      <td>0</td>\n",
       "      <td>69.5</td>\n",
       "      <td>0</td>\n",
       "      <td>0</td>\n",
       "      <td>1</td>\n",
       "      <td>0</td>\n",
       "      <td>...</td>\n",
       "      <td>0</td>\n",
       "      <td>0</td>\n",
       "      <td>0</td>\n",
       "      <td>0</td>\n",
       "      <td>0</td>\n",
       "      <td>0</td>\n",
       "      <td>0</td>\n",
       "      <td>0</td>\n",
       "      <td>0</td>\n",
       "      <td>0</td>\n",
       "    </tr>\n",
       "    <tr>\n",
       "      <th>...</th>\n",
       "      <td>...</td>\n",
       "      <td>...</td>\n",
       "      <td>...</td>\n",
       "      <td>...</td>\n",
       "      <td>...</td>\n",
       "      <td>...</td>\n",
       "      <td>...</td>\n",
       "      <td>...</td>\n",
       "      <td>...</td>\n",
       "      <td>...</td>\n",
       "      <td>...</td>\n",
       "      <td>...</td>\n",
       "      <td>...</td>\n",
       "      <td>...</td>\n",
       "      <td>...</td>\n",
       "      <td>...</td>\n",
       "      <td>...</td>\n",
       "      <td>...</td>\n",
       "      <td>...</td>\n",
       "      <td>...</td>\n",
       "      <td>...</td>\n",
       "    </tr>\n",
       "    <tr>\n",
       "      <th>1591380</th>\n",
       "      <td>47.0</td>\n",
       "      <td>0</td>\n",
       "      <td>0</td>\n",
       "      <td>1</td>\n",
       "      <td>0</td>\n",
       "      <td>47.0</td>\n",
       "      <td>0</td>\n",
       "      <td>0</td>\n",
       "      <td>1</td>\n",
       "      <td>0</td>\n",
       "      <td>...</td>\n",
       "      <td>0</td>\n",
       "      <td>0</td>\n",
       "      <td>0</td>\n",
       "      <td>0</td>\n",
       "      <td>0</td>\n",
       "      <td>0</td>\n",
       "      <td>0</td>\n",
       "      <td>0</td>\n",
       "      <td>0</td>\n",
       "      <td>0</td>\n",
       "    </tr>\n",
       "    <tr>\n",
       "      <th>1484659</th>\n",
       "      <td>47.0</td>\n",
       "      <td>0</td>\n",
       "      <td>0</td>\n",
       "      <td>1</td>\n",
       "      <td>0</td>\n",
       "      <td>47.0</td>\n",
       "      <td>0</td>\n",
       "      <td>0</td>\n",
       "      <td>1</td>\n",
       "      <td>0</td>\n",
       "      <td>...</td>\n",
       "      <td>0</td>\n",
       "      <td>0</td>\n",
       "      <td>0</td>\n",
       "      <td>0</td>\n",
       "      <td>0</td>\n",
       "      <td>0</td>\n",
       "      <td>0</td>\n",
       "      <td>0</td>\n",
       "      <td>0</td>\n",
       "      <td>0</td>\n",
       "    </tr>\n",
       "    <tr>\n",
       "      <th>569675</th>\n",
       "      <td>64.0</td>\n",
       "      <td>0</td>\n",
       "      <td>0</td>\n",
       "      <td>1</td>\n",
       "      <td>0</td>\n",
       "      <td>64.0</td>\n",
       "      <td>0</td>\n",
       "      <td>0</td>\n",
       "      <td>1</td>\n",
       "      <td>0</td>\n",
       "      <td>...</td>\n",
       "      <td>0</td>\n",
       "      <td>0</td>\n",
       "      <td>0</td>\n",
       "      <td>0</td>\n",
       "      <td>0</td>\n",
       "      <td>0</td>\n",
       "      <td>0</td>\n",
       "      <td>0</td>\n",
       "      <td>0</td>\n",
       "      <td>0</td>\n",
       "    </tr>\n",
       "    <tr>\n",
       "      <th>964870</th>\n",
       "      <td>69.5</td>\n",
       "      <td>0</td>\n",
       "      <td>0</td>\n",
       "      <td>0</td>\n",
       "      <td>0</td>\n",
       "      <td>69.5</td>\n",
       "      <td>0</td>\n",
       "      <td>0</td>\n",
       "      <td>0</td>\n",
       "      <td>0</td>\n",
       "      <td>...</td>\n",
       "      <td>0</td>\n",
       "      <td>0</td>\n",
       "      <td>0</td>\n",
       "      <td>0</td>\n",
       "      <td>0</td>\n",
       "      <td>0</td>\n",
       "      <td>0</td>\n",
       "      <td>0</td>\n",
       "      <td>0</td>\n",
       "      <td>0</td>\n",
       "    </tr>\n",
       "    <tr>\n",
       "      <th>861457</th>\n",
       "      <td>47.0</td>\n",
       "      <td>0</td>\n",
       "      <td>0</td>\n",
       "      <td>1</td>\n",
       "      <td>0</td>\n",
       "      <td>47.0</td>\n",
       "      <td>0</td>\n",
       "      <td>0</td>\n",
       "      <td>1</td>\n",
       "      <td>0</td>\n",
       "      <td>...</td>\n",
       "      <td>0</td>\n",
       "      <td>0</td>\n",
       "      <td>0</td>\n",
       "      <td>0</td>\n",
       "      <td>0</td>\n",
       "      <td>0</td>\n",
       "      <td>0</td>\n",
       "      <td>0</td>\n",
       "      <td>0</td>\n",
       "      <td>0</td>\n",
       "    </tr>\n",
       "  </tbody>\n",
       "</table>\n",
       "<p>155916 rows × 110 columns</p>\n",
       "</div>"
      ],
      "text/plain": [
       "          age  chronic_disease_binary  deceased  sex  travel_history_binary  \\\n",
       "897580   34.5                       0         0    0                      0   \n",
       "897544   54.5                       0         0    0                      0   \n",
       "513288   54.5                       0         0    1                      0   \n",
       "506284   64.5                       0         0    0                      0   \n",
       "1188167  69.5                       0         0    1                      0   \n",
       "...       ...                     ...       ...  ...                    ...   \n",
       "1591380  47.0                       0         0    1                      0   \n",
       "1484659  47.0                       0         0    1                      0   \n",
       "569675   64.0                       0         0    1                      0   \n",
       "964870   69.5                       0         0    0                      0   \n",
       "861457   47.0                       0         0    1                      0   \n",
       "\n",
       "          age  chronic_disease_binary  deceased  sex  travel_history_binary  \\\n",
       "897580   34.5                       0         0    0                      0   \n",
       "897544   54.5                       0         0    0                      0   \n",
       "513288   54.5                       0         0    1                      0   \n",
       "506284   64.5                       0         0    0                      0   \n",
       "1188167  69.5                       0         0    1                      0   \n",
       "...       ...                     ...       ...  ...                    ...   \n",
       "1591380  47.0                       0         0    1                      0   \n",
       "1484659  47.0                       0         0    1                      0   \n",
       "569675   64.0                       0         0    1                      0   \n",
       "964870   69.5                       0         0    0                      0   \n",
       "861457   47.0                       0         0    1                      0   \n",
       "\n",
       "         ...  country_Thailand  country_Togo  country_Tunisia  country_Uganda  \\\n",
       "897580   ...                 0             0                0               0   \n",
       "897544   ...                 0             0                0               0   \n",
       "513288   ...                 0             0                0               0   \n",
       "506284   ...                 0             0                0               0   \n",
       "1188167  ...                 0             0                0               0   \n",
       "...      ...               ...           ...              ...             ...   \n",
       "1591380  ...                 0             0                0               0   \n",
       "1484659  ...                 0             0                0               0   \n",
       "569675   ...                 0             0                0               0   \n",
       "964870   ...                 0             0                0               0   \n",
       "861457   ...                 0             0                0               0   \n",
       "\n",
       "         country_Ukraine  country_United Arab Emirates  \\\n",
       "897580                 0                             0   \n",
       "897544                 0                             0   \n",
       "513288                 0                             0   \n",
       "506284                 0                             0   \n",
       "1188167                0                             0   \n",
       "...                  ...                           ...   \n",
       "1591380                0                             0   \n",
       "1484659                0                             0   \n",
       "569675                 0                             0   \n",
       "964870                 0                             0   \n",
       "861457                 0                             0   \n",
       "\n",
       "         country_United Kingdom  country_United States  country_Vietnam  \\\n",
       "897580                        0                      0                0   \n",
       "897544                        0                      0                0   \n",
       "513288                        0                      0                0   \n",
       "506284                        0                      0                0   \n",
       "1188167                       0                      0                0   \n",
       "...                         ...                    ...              ...   \n",
       "1591380                       0                      0                0   \n",
       "1484659                       0                      0                0   \n",
       "569675                        0                      0                0   \n",
       "964870                        0                      0                0   \n",
       "861457                        0                      0                0   \n",
       "\n",
       "         country_Zimbabwe  \n",
       "897580                  0  \n",
       "897544                  0  \n",
       "513288                  0  \n",
       "506284                  0  \n",
       "1188167                 0  \n",
       "...                   ...  \n",
       "1591380                 0  \n",
       "1484659                 0  \n",
       "569675                  0  \n",
       "964870                  0  \n",
       "861457                  0  \n",
       "\n",
       "[155916 rows x 110 columns]"
      ]
     },
     "execution_count": 215,
     "metadata": {},
     "output_type": "execute_result"
    }
   ],
   "source": [
    "X"
   ]
  },
  {
   "cell_type": "code",
   "execution_count": 216,
   "metadata": {},
   "outputs": [
    {
     "data": {
      "text/plain": [
       "array([0, 0, 0, ..., 0, 0, 0], dtype=int64)"
      ]
     },
     "execution_count": 216,
     "metadata": {},
     "output_type": "execute_result"
    }
   ],
   "source": [
    "Y"
   ]
  },
  {
   "cell_type": "code",
   "execution_count": 212,
   "metadata": {},
   "outputs": [],
   "source": [
    "from sklearn.model_selection import cross_validate\n",
    "# 5 Fold Cross Validation\n",
    "hospitalization_scores = cross_validate(model, X, Y, cv=5, scoring=\"accuracy\")"
   ]
  },
  {
   "cell_type": "code",
   "execution_count": 214,
   "metadata": {},
   "outputs": [
    {
     "data": {
      "text/plain": [
       "{'fit_time': array([32.34410501, 18.56089854, 26.61841249, 22.61923528, 42.91427279]),\n",
       " 'score_time': array([0.05399871, 0.05899811, 0.04999876, 0.06199813, 0.06199837]),\n",
       " 'test_score': array([0.99903797, 0.99903794, 0.99913414, 0.99890966, 0.99916621])}"
      ]
     },
     "execution_count": 214,
     "metadata": {},
     "output_type": "execute_result"
    }
   ],
   "source": [
    "hospitalization_scores"
   ]
  },
  {
   "cell_type": "code",
   "execution_count": 218,
   "metadata": {},
   "outputs": [],
   "source": [
    "df_before_concat = df_trimmed[[\"age\",\"chronic_disease_binary\",\"deceased\",\"sex\",\"hospitalized\", \"country\"]]\n",
    "dummies = pd.get_dummies(df_before_concat, columns=[\"country\"]) # turn country column into dummies \n",
    "X = pd.concat([df_before_concat, dummies] ,axis=1)\n",
    "X = X.drop(labels=\"country\", axis=1)\n",
    "Y = np.array(df_trimmed[\"travel_history_binary\"])\n",
    "hospital_singleAccuracy = accuracy_score(ytest,YP)\n",
    "travel_scores = cross_validate(model, X, Y, cv=5, scoring=\"accuracy\")"
   ]
  },
  {
   "cell_type": "code",
   "execution_count": 219,
   "metadata": {},
   "outputs": [
    {
     "data": {
      "text/plain": [
       "{'fit_time': array([40.3096776 , 37.9553771 , 71.76605773, 29.28048897, 27.4191246 ]),\n",
       " 'score_time': array([0.06799769, 0.05599856, 0.05699825, 0.05899787, 0.05099797]),\n",
       " 'test_score': array([0.96511031, 0.96443575, 0.96629574, 0.96603919, 0.96539781])}"
      ]
     },
     "execution_count": 219,
     "metadata": {},
     "output_type": "execute_result"
    }
   ],
   "source": [
    "travel_scores"
   ]
  }
 ],
 "metadata": {
  "kernelspec": {
   "display_name": "Python 3",
   "language": "python",
   "name": "python3"
  },
  "language_info": {
   "codemirror_mode": {
    "name": "ipython",
    "version": 3
   },
   "file_extension": ".py",
   "mimetype": "text/x-python",
   "name": "python",
   "nbconvert_exporter": "python",
   "pygments_lexer": "ipython3",
   "version": "3.7.6"
  }
 },
 "nbformat": 4,
 "nbformat_minor": 4
}
