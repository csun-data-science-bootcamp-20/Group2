{
 "cells": [
  {
   "cell_type": "code",
   "execution_count": 4,
   "metadata": {},
   "outputs": [
    {
     "name": "stderr",
     "output_type": "stream",
     "text": [
      "C:\\Users\\dpale\\anaconda3\\lib\\site-packages\\fuzzywuzzy\\fuzz.py:11: UserWarning: Using slow pure-python SequenceMatcher. Install python-Levenshtein to remove this warning\n",
      "  warnings.warn('Using slow pure-python SequenceMatcher. Install python-Levenshtein to remove this warning')\n"
     ]
    }
   ],
   "source": [
    "import pandas as pd\n",
    "import matplotlib.pyplot as plt\n",
    "import numpy as np\n",
    "from fuzzywuzzy import fuzz"
   ]
  },
  {
   "cell_type": "code",
   "execution_count": 31,
   "metadata": {},
   "outputs": [],
   "source": [
    "raw_data = pd.read_csv(\"covid19.csv\")"
   ]
  },
  {
   "cell_type": "code",
   "execution_count": 5,
   "metadata": {},
   "outputs": [
    {
     "name": "stderr",
     "output_type": "stream",
     "text": [
      "C:\\Users\\dpale\\anaconda3\\lib\\site-packages\\IPython\\core\\interactiveshell.py:3063: DtypeWarning: Columns (3,4,11,12,14,15,16,17,18,19,21,23,24,25,26,27,28,29,33,34) have mixed types.Specify dtype option on import or set low_memory=False.\n",
      "  interactivity=interactivity, compiler=compiler, result=result)\n"
     ]
    }
   ],
   "source": [
    "c_data = pd.read_csv(\"covid19_cleaned.zip\")"
   ]
  },
  {
   "cell_type": "code",
   "execution_count": 13,
   "metadata": {
    "scrolled": true
   },
   "outputs": [
    {
     "data": {
      "text/plain": [
       "Index(['Unnamed: 0', 'ID', 'age', 'sex', 'city', 'province', 'country',\n",
       "       'latitude', 'longitude', 'geo_resolution', 'date_onset_symptoms',\n",
       "       'date_admission_hospital', 'date_confirmation', 'symptoms',\n",
       "       'lives_in_Wuhan', 'travel_history_dates', 'travel_history_location',\n",
       "       'reported_market_exposure', 'additional_information',\n",
       "       'chronic_disease_binary', 'chronic_disease', 'source',\n",
       "       'sequence_available', 'outcome', 'date_death_or_discharge',\n",
       "       'notes_for_discussion', 'location', 'admin3', 'admin2', 'admin1',\n",
       "       'country_new', 'admin_id', 'data_moderator_initials',\n",
       "       'travel_history_binary', 'hospitalized', 'deceased'],\n",
       "      dtype='object')"
      ]
     },
     "execution_count": 13,
     "metadata": {},
     "output_type": "execute_result"
    }
   ],
   "source": [
    "# Nice to have columns on hand\n",
    "c_data.columns"
   ]
  },
  {
   "cell_type": "code",
   "execution_count": 14,
   "metadata": {
    "scrolled": true
   },
   "outputs": [
    {
     "data": {
      "text/plain": [
       "Hospitalized                                                                202475\n",
       "Recovered                                                                    93656\n",
       "Deceased                                                                      5011\n",
       "Under treatment                                                                370\n",
       "Receiving Treatment                                                            257\n",
       "Alive                                                                          189\n",
       "discharge                                                                      175\n",
       "stable                                                                         156\n",
       "died                                                                           153\n",
       "stable condition                                                               130\n",
       "https://www.mspbs.gov.py/covid-19.php                                          126\n",
       "discharged                                                                     117\n",
       "recovered                                                                       60\n",
       "death                                                                           48\n",
       "Stable                                                                          31\n",
       "Dead                                                                            13\n",
       "Migrated_Other                                                                   8\n",
       "Migrated                                                                         5\n",
       "Died                                                                             4\n",
       "Death                                                                            4\n",
       "Discharged from hospital                                                         4\n",
       "released from quarantine                                                         4\n",
       "dead                                                                             3\n",
       "recovering at home 03.03.2020                                                    2\n",
       "not hospitalized                                                                 2\n",
       "Discharged                                                                       2\n",
       "critical condition, intubated as of 14.02.2020                                   2\n",
       "Symptoms only improved with cough. Currently hospitalized for follow-up.         2\n",
       "treated in an intensive care unit (14.02.2020)                                   2\n",
       "severe                                                                           2\n",
       "Critical condition                                                               1\n",
       "unstable                                                                         1\n",
       "severe illness                                                                   1\n",
       "critical condition                                                               1\n",
       "Name: outcome, dtype: int64"
      ]
     },
     "execution_count": 14,
     "metadata": {},
     "output_type": "execute_result"
    }
   ],
   "source": [
    "# Cleaning and extracting information from the \"outcome\" column.\n",
    "# \"Outcome\" is a very good place to begin extracting insights.\n",
    "# Lots of case outcomes to look at.\n",
    "raw_data[\"outcome\"].value_counts()"
   ]
  },
  {
   "cell_type": "code",
   "execution_count": 17,
   "metadata": {},
   "outputs": [],
   "source": [
    "# These functions extract keywords from the \"outcome\" column.\n",
    "# \"Outcome\" gives us information we can categorize into two features:\n",
    "# \"deaths\" and \"hospitalizations\".\n",
    "\n",
    "# Look for hospital-related keywords.\n",
    "# This function just wraps the stringChecker function\n",
    "# and passes it a hardcoded list\n",
    "\n",
    "#might be better to do this with regular expressions\n",
    "def hospitalization(s):\n",
    "    \n",
    "    # Filter this value out...\n",
    "    if s == \"not hospitalized\":\n",
    "        return 0\n",
    "    \n",
    "    # A regular expression may be more \n",
    "    # algorithmically efficient\n",
    "    hospitalStrings = [ \n",
    "       \"hospital\", \n",
    "       \"intensive\", \n",
    "       \"released\",\n",
    "       \"care\", \n",
    "       \"discharged\",\n",
    "       \"intubated\", \n",
    "       \"migrated\",\n",
    "       \"stable\"\n",
    "       \"death\",\n",
    "       \"deceased\",\n",
    "       \"died\",\n",
    "   ]\n",
    "    return stringChecker(s, hospitalStrings)\n",
    "\n",
    "# Issue: we are assuming a death is a hospitalization\n",
    "# Verify it is sound by checking the statistics of \n",
    "# only deaths with hospitalization dates"
   ]
  },
  {
   "cell_type": "code",
   "execution_count": 18,
   "metadata": {},
   "outputs": [],
   "source": [
    "# Same as above function but for deaths.\n",
    "def death(s):\n",
    "    deathStrings = [\n",
    "        \"deceased\",\n",
    "        \"died\",\n",
    "        \"death\",\n",
    "        \"dead\"\n",
    "    ]\n",
    "    return stringChecker(s, deathStrings)"
   ]
  },
  {
   "cell_type": "code",
   "execution_count": 19,
   "metadata": {},
   "outputs": [],
   "source": [
    "# Check if s contains a string in the argument list\n",
    "def stringChecker(s, l):\n",
    "    s = str(s).lower()\n",
    "    for word in l:\n",
    "      if s.find(word) != -1:\n",
    "        return 1         \n",
    "    return 0"
   ]
  },
  {
   "cell_type": "code",
   "execution_count": 20,
   "metadata": {},
   "outputs": [
    {
     "data": {
      "text/plain": [
       "0    2102322\n",
       "1     207789\n",
       "Name: hospitalized, dtype: int64"
      ]
     },
     "execution_count": 20,
     "metadata": {},
     "output_type": "execute_result"
    }
   ],
   "source": [
    "# Create a new column for hospitalizations\n",
    "# Use our above function to extract out booleans.\n",
    "c_data[\"hospitalized\"] = raw_data[\"outcome\"].apply(hospitalization)\n",
    "c_data[\"hospitalized\"].value_counts()"
   ]
  },
  {
   "cell_type": "code",
   "execution_count": 21,
   "metadata": {
    "scrolled": true
   },
   "outputs": [
    {
     "data": {
      "text/plain": [
       "0    2304875\n",
       "1       5236\n",
       "Name: deceased, dtype: int64"
      ]
     },
     "execution_count": 21,
     "metadata": {},
     "output_type": "execute_result"
    }
   ],
   "source": [
    "# Same as above for deceased. Extract all deaths.\n",
    "c_data[\"deceased\"] = raw_data[\"outcome\"].apply(death)\n",
    "c_data[\"deceased\"].value_counts()"
   ]
  },
  {
   "cell_type": "code",
   "execution_count": 22,
   "metadata": {},
   "outputs": [],
   "source": [
    "# Cleaning up dates:\n",
    "# Clean up date values\n",
    "# remove hyphens, return just the first date\n",
    "def cleanDate(s):\n",
    "    s = str(s)\n",
    "    split = s.split(\"-\")\n",
    "    return split[0].strip()"
   ]
  },
  {
   "cell_type": "code",
   "execution_count": 23,
   "metadata": {},
   "outputs": [],
   "source": [
    "# Apply the above function to our three date columns.\n",
    "# Thankfully our dates are already formatted nicely.\n",
    "c_data[\"date_admission_hospital\"] = raw_data[\"date_admission_hospital\"].apply(cleanDate)\n",
    "c_data[\"date_onset_symptoms\"] = raw_data[\"date_onset_symptoms\"].apply(cleanDate)\n",
    "c_data[\"date_confirmation\"] = raw_data[\"date_confirmation\"].apply(cleanDate)"
   ]
  },
  {
   "cell_type": "code",
   "execution_count": 24,
   "metadata": {},
   "outputs": [
    {
     "data": {
      "text/plain": [
       "(array(['nan', '04.02.2020', '30.01.2020', '14.02.2020', '17.02.2020',\n",
       "        '13.02.2020', '10.02.2020', '12.02.2020', '15.02.2020',\n",
       "        '08.02.2020', '05.02.2020', '07.02.2020', '09.02.2020',\n",
       "        '26.01.2020', '26.02.2020', '03.02.2020', '28.01.2020',\n",
       "        '06.02.2020', '11.02.2020', '16.02.2020', '19.02.2020',\n",
       "        '22.01.2020', '18.01.2020', '23.01.2020', '20.02.2020',\n",
       "        '18.02.2020', '21.02.2020', '24.01.2020', '22.02.2020',\n",
       "        '29.01.2020', '27.01.2020', '23.02.2020', '24.02.2020',\n",
       "        '25.02.2020', '25.01.2020', '27.02.2020', '08.01.2020',\n",
       "        '15.01.2020', '17.01.2020', '28.02.2020', '20.01.2020',\n",
       "        '01.03.2020', '10.01.2020', '29.03.2020', '29.02.2020',\n",
       "        '13.01.2020', '03.01.2020', '04.03.2020', '03.03.2020',\n",
       "        '19.01.2020', '21.01.2020', '05.03.2020', '02.03.2020',\n",
       "        '03.04.2020', '06.03.2020', '31.01.2020', '08.03.2020',\n",
       "        '09.03.2020', '10.03.2020', '07.03.2020', '01.02.2020',\n",
       "        '02.02.2020', '14.01.2020', '13.03.2020', '11.01.2020',\n",
       "        '14.03.2020', '15.03.2020', '12.01.2020', '09.01.2020',\n",
       "        '16.01.2020', '04.01.2020', '05.01.2020', '01.01.2020',\n",
       "        '27.12.2019', '31.12.2019', '10.12.2019', '06.01.2020',\n",
       "        '11.03.2020', '17.03.2020', '22.03.2020', '12.03.2020',\n",
       "        '23.03.2020', '26.03.2020', '16.03.2020', '18.03.2020',\n",
       "        '27.03.2020', '20.03.2020', '19.03.2020', '21.03.2020',\n",
       "        '24.03.2020', '25.03.2020', '28.03.2020', '30.03.2020',\n",
       "        '01.04.2020', '31.03.2020', '31.04.2020', '29.04.2020',\n",
       "        '02.04.2020', '05.04.2020', '06.04.2020', '04.04.2020',\n",
       "        '07.04.2020', '08.04.2020', '10.04.2020', '11.04.2020',\n",
       "        '13.04.2020', '15.04.2020', '17.04.2020', '19.04.2020',\n",
       "        '21.04.2020', '22.04.2020', '26.04.2020', '02.05.2020',\n",
       "        '16.04.2020', '12.04.2020', '18.04.2020', '14.04.2020',\n",
       "        '09.05.2020', '09.04.2020', '24.04.2020', '25.04.2020',\n",
       "        '28.04.2020', '30.04.2020', '08.05.2020', '06.05.2020',\n",
       "        '23.04.2020', '11.05.2020', '01.05.2020', '05.05.2020',\n",
       "        '20.04.2020', '27.04.2020', '03.05.2020', '04.05.2020',\n",
       "        '10.05.2020', '07.05.2020', '27.05.2020', '28.05.2020',\n",
       "        '29.05.2020', '22.05.2020', '31.05.2020', '02.06.2020',\n",
       "        '23.05.2020', '24.05.2020', '25.05.2020', '26.05.2020',\n",
       "        '30.05.2020', '03.06.2020', '01.06.2020', '12.05.2020',\n",
       "        '13.05.2020', '14.05.2020', '15.05.2020', '16.05.2020',\n",
       "        '17.05.2020', '18.05.2020', '19.05.2020', '20.05.2020',\n",
       "        '21.05.2020'], dtype=object),\n",
       " array(['nan', '08.02.2020', '01.02.2020', '30.01.2020', '14.02.2020',\n",
       "        '11.02.2020', '03.02.2020', '10.02.2020', '07.02.2020',\n",
       "        '02.02.2020', '09.02.2020', '05.02.2020', '04.04.2020',\n",
       "        '04.02.2020', '28.01.2020', '21.01.2020', '12.02.2020',\n",
       "        '25.01.2020', '24.01.2020', '27.01.2020', '06.02.2020',\n",
       "        '31.01.2020', '29.01.2020', '16.02.2020', '22.01.2020',\n",
       "        '19.01.2020', '18.01.2020', '18.02.2020', '19.02.2020',\n",
       "        '20.02.2020', '15.02.2020', '17.02.2020', '13.02.2020',\n",
       "        '16.01.2020', '22.02.2020', '23.01.2020', '17.01.2020',\n",
       "        '23.02.2020', '21.02.2020', '24.02.2020', '25.02.2020',\n",
       "        '26.02.2020', '27.02.2020', '08.01.2020', '15.01.2020',\n",
       "        '04.01.2020', '26.01.2020', '14.01.2020', '29.02.2020',\n",
       "        '03.01.2020', '09.01.2020', '20.01.2020', '03.03.2020',\n",
       "        '28.02.2020', '02.03.2020', '04.03.2020', '31.12.2019',\n",
       "        '05.03.2020', '06.03.2020', '01.03.2020', '07.03.2020',\n",
       "        '08.03.2020', '08.03.20202', '09.03.2020', '11.03.2020',\n",
       "        '13.01.2020', '10.01.2020', '01.01.2020', '02.01.2020',\n",
       "        '10.03.2020', '12.03.2020', '13.03.2020', '29.12.2019',\n",
       "        '11.01.2020', '12.01.2020', '01.31.2020', '05.01.2020',\n",
       "        '22.12.2019', '26.11.2020', '06.01.2020', '23.12.2019',\n",
       "        '10.12.2019', '20.12.2019', '30.12.2019', '19.03.2020',\n",
       "        '16.03.2020', '14.03.2020', '15.03.2020', '25.03.2020',\n",
       "        '27.03.2020', '21.03.2020', '17.03.2020', '18.03.2020',\n",
       "        '24.03.2020', '23.03.2020', '26.03.2020', '20.03.2020',\n",
       "        '22.03.2020', '28.03.2020', '29.03.2020', '30.03.2020',\n",
       "        '31.03.2020', '01.04.2020', '02.04.2020', '03.04.2020',\n",
       "        '05.04.2020', '06.04.2020', '07.04.2020', '08.04.2020',\n",
       "        '09.04.2020', '10.04.2020', '11.04.2020', '31.04.2020',\n",
       "        '14.04.2020', '16.04.2020', '15.04.2020', '23.04.2020',\n",
       "        '24.04.2020', '27.04.2020', '28.04.2020', '30.04.2020',\n",
       "        '12.04.2020', '17.04.2020', '18.04.2020', '19.04.2020',\n",
       "        '20.04.2020', '21.04.2020', '22.04.2020', '13.04.2020',\n",
       "        '02.05.2020', '25.04.2020', '26.04.2020', '29.04.2020',\n",
       "        '04.05.2020', '01.05.2020', '03.05.2020', '21.05.2020',\n",
       "        '05.05.2020', '13.05.2020', '06.05.2020', '08.05.2020',\n",
       "        '22.05.2020', '09.05.2020', '10.05.2020', '20.05.2020',\n",
       "        '07.05.2020', '15.05.2020', '19.05.2020', '14.05.2020',\n",
       "        '23.05.2020', '12.05.2020', '16.05.2020', '18.05.2020',\n",
       "        '17.05.2020', '11.05.2020', '24.05.2020', '26.05.2020',\n",
       "        '25.05.2020', '29.05.2020', '31.05.2020', '01.06.2020',\n",
       "        '30.05.2020', '27.05.2020', '28.05.2020', '02.06.2020'],\n",
       "       dtype=object),\n",
       " array(['14.02.2020', '21.02.2020', '26.01.2020', '15.02.2020',\n",
       "        '16.02.2020', '07.02.2020', '08.02.2020', '03.02.2020',\n",
       "        '13.02.2020', '12.02.2020', '10.02.2020', '11.02.2020',\n",
       "        '09.02.2020', '17.02.2020', '18.02.2020', '04.02.2020',\n",
       "        '06.02.2020', '25.02.2020', '05.03.2020', '22.02.2020',\n",
       "        '19.02.2020', '20.02.2020', '25.01.2020', '24.01.2020',\n",
       "        '01.02.2020', '28.01.2020', '29.01.2020', '23.01.2020',\n",
       "        '23.02.2020', 'nan', '31.01.2020', '30.01.2020', '26.02.2020',\n",
       "        '24.02.2020', '07.03.2020', '27.02.2020', '01.03.2020',\n",
       "        '28.02.2020', '21.01.2020', '04.03.2020', '29.02.2020',\n",
       "        '02.03.2020', '27.01.2020', '02.02.2020', '15.01.2020',\n",
       "        '03.03.2020', '06.03.2020', '19.03.2020', '05.02.2020',\n",
       "        '13.03.2020', '09.03.2020', '11.03.2020', '08.03.2020',\n",
       "        '06.01.2020', '17.03.2020', '10.03.2020', '12.03.2020',\n",
       "        '14.03.2020', '15.03.2020', '18.03.2020', '16.03.2020',\n",
       "        '22.01.2020', '16.01.2020', '19.01.2020', '20.01.2020',\n",
       "        '20.03.2020', '12.01.2020', '17.01.2020', '18.01.2020',\n",
       "        '26.03.2020', '23.04.2020', '27.03.2020', '24.04.2020',\n",
       "        '22.04.2020', '28.03.2020', '29.03.2020', '25.04.2020',\n",
       "        '21.03.2020', '23.03.2020', '24.03.2020', '30.03.2020',\n",
       "        '26.04.2020', '27.04.2020', '31.03.2020', '19.04.2020',\n",
       "        '20.04.2020', '21.04.2020', '22.03.2020', '25.03.2020',\n",
       "        '28.04.2020', '29.04.2020', '30.04.2020', '01.05.2020',\n",
       "        '02.05.2020', '03.05.2020', '04.05.2020', '05.05.2020',\n",
       "        '06.05.2020', '07.05.2020', '08.05.2020', '09.05.2020',\n",
       "        '10.05.2020', '11.05.2020', '12.05.2020', '01.04.2020',\n",
       "        '13.05.2020', '14.05.2020', '15.05.2020', '16.05.2020',\n",
       "        '17.05.2020', '18.05.2020', '19.05.2020', '20.05.2020',\n",
       "        '21.05.2020', '22.05.2020', '23.05.2020', '24.05.2020',\n",
       "        '02.04.2020', '25.05.2020', '03.04.2020', '26.05.2020',\n",
       "        '27.05.2020', '28.05.2020', '29.05.2020', '04.04.2020',\n",
       "        '30.05.2020', '31.05.2020', '05.04.2020', '01.06.2020',\n",
       "        '06.04.2020', '07.04.2020', '08.04.2020', '09.04.2020',\n",
       "        '10.04.2020', '11.04.2020', '12.04.2020', '13.04.2020',\n",
       "        '14.04.2020', '15.04.2020', '16.04.2020', '17.04.2020',\n",
       "        '18.04.2020', '02.06.2020', '03.06.2020'], dtype=object))"
      ]
     },
     "execution_count": 24,
     "metadata": {},
     "output_type": "execute_result"
    }
   ],
   "source": [
    "# Visually inspect date values:\n",
    "c_data[\"date_admission_hospital\"].unique(), c_data[\"date_onset_symptoms\"].unique(), c_data[\"date_confirmation\"].unique()"
   ]
  },
  {
   "cell_type": "code",
   "execution_count": 39,
   "metadata": {},
   "outputs": [
    {
     "data": {
      "text/plain": [
       "fever                                              320\n",
       "Mild to moderate                                   257\n",
       "Mild:moderate                                      128\n",
       "cough, fever                                       126\n",
       "cough                                               52\n",
       "                                                  ... \n",
       "fever:headache:malaise:sore throat:cough             1\n",
       "fever:cough:acute respiratory distress syndrome      1\n",
       "cough, fever, grasp                                  1\n",
       "acute myocardial infarction                          1\n",
       "cough:cold:fever:aches:headache                      1\n",
       "Name: symptoms, Length: 448, dtype: int64"
      ]
     },
     "execution_count": 39,
     "metadata": {},
     "output_type": "execute_result"
    }
   ],
   "source": [
    "c_data[\"symptoms\"].value_counts()"
   ]
  },
  {
   "cell_type": "code",
   "execution_count": 65,
   "metadata": {},
   "outputs": [
    {
     "data": {
      "text/plain": [
       "2310111"
      ]
     },
     "execution_count": 65,
     "metadata": {},
     "output_type": "execute_result"
    }
   ],
   "source": [
    "len(c_data[\"symptoms\"])"
   ]
  },
  {
   "cell_type": "code",
   "execution_count": 38,
   "metadata": {},
   "outputs": [
    {
     "data": {
      "text/plain": [
       "array([nan, 'fever, severe pneumonia', 'fever',\n",
       "       'cough, fever, sore throat', 'cough, fever', 'dyspnea, fever',\n",
       "       'cough, difficulty breathing, fever', 'fever (38 ° C)',\n",
       "       '37.1 ° C, mild coughing', 'cough',\n",
       "       'abdominal pain, pulmonary inflammation', 'Sore throat',\n",
       "       'feeling ill, coughing',\n",
       "       'abdominal pain, diarrhea, fever, general malaise',\n",
       "       'poor physical condition', 'cough, fatigue, fever', 'yes',\n",
       "       'fever 38.3', 'fever (39.5 ℃)', 'fever 37.7℃', 'fever 37.5℃',\n",
       "       'anorexia', 'nausea, cough, pneumonia, fever',\n",
       "       'fever 38.2 ℃, cough', 'fever 37 C', 'malaise, headache',\n",
       "       'fever (37 ℃), breathing difficulty',\n",
       "       'fever (37.5 ℃, then 38 ℃), cough, malaise',\n",
       "       'sore throat, Cough, fever (37 ℃)',\n",
       "       'fever, shortness of breath, pneumonia', 'severe dyspnea',\n",
       "       'fever, cough', 'nausea', 'fever; fatigue',\n",
       "       'chest tightness; fatigue', 'cough; fever',\n",
       "       'fever; nasal congestion; runny nose; sore throat; cough',\n",
       "       'fever 39.3', 'fever 38',\n",
       "       'no respiratory symptoms, esophageal reflux',\n",
       "       'cough; sputum; fever', 'dry cough', 'cough; sore body; cold',\n",
       "       'flu-like symptoms', 'acute pharyngitis', 'sore throat',\n",
       "       'fever, sore throat, mild cough', 'fever; fatigue; dry cough',\n",
       "       'low fever 37.0 ℃', 'low fever (37.4 ℃)',\n",
       "       'low fever (37.2 ° C); cough', 'fever (39.5 ℃), malaise',\n",
       "       'sore throat; fever, nasal discharge',\n",
       "       'fever (37.4 ° C), pneumonia', 'fever (37.8 ℃), cough',\n",
       "       'fever (38-39 ° C), malaise',\n",
       "       'fever 38.1 ℃ Cough, malaise, anorexia',\n",
       "       'Discharge, cough, sore throat, chest pain',\n",
       "       'fever, cough, phlegm, dyspnea', 'fever, cough, phlegm',\n",
       "       'fever 37.8 ℃ , sore throat', 'rever, cough',\n",
       "       'fever 37.1 ℃ , couh', 'fever 38.3 ℃ , cough',\n",
       "       'malaise, fever (37 ℃); headache, toothache, pneumonia',\n",
       "       'Sore throat, chills', 'fever 37.5 , headache, malaise',\n",
       "       'Fever, cough, headache', 'fever 37.2', 'cough, malaise',\n",
       "       'sore throat, fever (38-39 ℃)', 'fatigue, fever (38 ℃)',\n",
       "       'fever (38.3 ℃)', 'vomiting, cough, fever (38.2 ℃), sore throat',\n",
       "       'fever (39 ° C), joint pain', 'fever (37.4 ℃), cough',\n",
       "       'fever (40.3 ℃), Headache, malaise, joint pain',\n",
       "       'fever (39.9 ℃), cough', 'fever (39.3 ℃), cough',\n",
       "       'cough, fever (38.3 ℃), joint pain', 'Cough, fever (38 ℃)',\n",
       "       'Fever (37.4 ° C), malaise, sore throa', 'cough, sore throat',\n",
       "       'Fever (38 ° C)', 'Fever (38.1 ° C), cough, headache.',\n",
       "       'pneumonitis', 'no serious symptoms', 'fatigue, fever, headache',\n",
       "       'fatigue, fever', 'dizziness, sore limbs',\n",
       "       'systemic weakness, runny nose, fever', 'pneumonia',\n",
       "       'similar to a respiratory infection', 'mild',\n",
       "       'chills, headache, fatigue', 'cough, phlegm, fever 37 degrees',\n",
       "       'fever 39.0 ℃', 'fever (38.0 ℃), Fatigue, difficulty walking',\n",
       "       'fever (38.0 ℃)', 'chills,  fever (38 ℃), malaise',\n",
       "       'Sputum, cough symptoms, fever (37 ℃), cough, breathing difficulty',\n",
       "       'fever (37.0 ℃), fever (38.7 ℃)', 'fever (37.5 ℃ ～ 38.0 ℃)',\n",
       "       'fever and cough', 'fever, runny nose',\n",
       "       'fever, pneumonia, sore throat', 'respiratory complaints',\n",
       "       'acute respiratory viral infection (ARVI)',\n",
       "       'fever, sneezing, coughing',\n",
       "       'fever, chills, muscle, joint pain and cough',\n",
       "       'cough, fever, shortness of breath', 'cough, fever, myalgia',\n",
       "       'chills, fever, myalgias, sore throat', 'asymptomatic, afebrile',\n",
       "       'fever, sore throat', 'cough, dyspnea', 'cough, fever, bone pain',\n",
       "       'cough fever', 'fever, headache, malaise, sore throat, cough',\n",
       "       'fever, sore throat, cough, shortness of breath', 'diarrhea',\n",
       "       'cough, fever, myalgia, rhinorrhea, sore throat',\n",
       "       'aching muscles, fever, pneumonia',\n",
       "       'chills, cough, fatigue, fever',\n",
       "       'chills, conjunctivitis, cough, fever',\n",
       "       'cough, sore throat, body aches, fever',\n",
       "       'dry cough, runny nose, shortness of breath, headache',\n",
       "       'cough, body aches, chills',\n",
       "       'fever, runny nose, body pain, diarrhea',\n",
       "       'severe, kidney failure and hypertension',\n",
       "       'fever, cough, nasal congestion', 'mild symptoms',\n",
       "       'lethargy; dry cough', 'fever, nausea, digestive discomfort',\n",
       "       'aggressive pulmonary symptomatology',\n",
       "       'lesions on chest radiographs', 'chills, cough, joint pain',\n",
       "       'cough, fever, pneumonia',\n",
       "       'Sore throat, headache, runny nose and tiredness',\n",
       "       'difficulty breathing', 'fever; headache; phlegm',\n",
       "       'fever; muscle aches; chills', 'sore throat; headache',\n",
       "       'chills; abdominal pain', 'sore throat, fever',\n",
       "       'fever; cough; sore throat', 'cough; sore throat; body aches',\n",
       "       'fever, cough, shortness of breath', 'cough, fever, sputum',\n",
       "       'fever, dcough', 'cough, nasal discharge, fever (37.2 ° C)',\n",
       "       'cough, general malaise, joint muscle pain',\n",
       "       'fever, headache, and malaise, influenza',\n",
       "       'Fever, cough, vomiting.', 'Cough, fever (38.0 ° C)',\n",
       "       'fever 37.8 ° C Dyspnea with pneumonia', 'headache',\n",
       "       'fever 37.5 ℃, diarrhea, nausea, dsypnea, cough, inappetance',\n",
       "       'fever (38.0 ° C), cough, malaise', 'fever (38.6 ℃)',\n",
       "       'fever, difficuty breathing', 'malaise, fever, joint pain',\n",
       "       'malaise, fever, joint pain, phlegm', 'fever (38.9℃)',\n",
       "       'fever (38.2℃)', 'cough, phlegn,  38 ° C fever', 'fever 37',\n",
       "       'fever (38.8 ℃), breathing difficulty',\n",
       "       'fever (37.6 ℃), fatigue, diarrhea',\n",
       "       'fever (38 ° C), nasal discharge/congestion, sore throat, malaise, joint pain',\n",
       "       'fever, joint pain', '38.7 degrees fever, headache, malaise',\n",
       "       'Fever (37.5 ° C)', 'fever, headache, cough',\n",
       "       'breathing difficulty', 'fever 38-39 C', 'fever 37-39 C',\n",
       "       'fever (37.6 - 38.3 degrees)', 'backache',\n",
       "       'fever (38.5 degrees), cough, sore throat',\n",
       "       'Fever, cough, runny nose', 'fever (37.5-39 ° C), rash',\n",
       "       'mild cough, phlegm', 'sneezing, runny nose and slight fever',\n",
       "       'runny nose', 'fever  (37.0-5 ℃), malaise', 'fever  (37.2 ℃)',\n",
       "       'chills, fever (38.5 ℃), mausea, diarrhea', 'fatigue',\n",
       "       'runny nose, sore throat, mile cough', 'fever, headache',\n",
       "       'fever, phlegm', 'Fever (37 ℃)', 'fever (38 ° C), cough',\n",
       "       'sneezing', 'fever (38), cough', 'minor fatigue, sore throat',\n",
       "       'fever 37.5', 'Cough, headache, general malaise',\n",
       "       'Fever, cough, malaise', 'Fever, cough',\n",
       "       'Fever, cough Difficulty breathing', 'fever (38.0)',\n",
       "       'fever (37.4-8), cough', 'fever, pneumonia, malaise',\n",
       "       'fever, cough, general pain', 'Fever (37.4 degrees), sore throat',\n",
       "       'Cough, headache, general malaise, sore throat',\n",
       "       'Fever, sore throat', 'fever (38 ℃)', 'fever (37.8 ℃)',\n",
       "       'phlegm, malaise', 'fever 38.0, cough, fatigue', 'fever 40.0',\n",
       "       'fever (39), inapatence', 'malaise, dyspnea, cough',\n",
       "       'chills, cough, fever', 'myalgia, rhinorrhea',\n",
       "       'mild, cough and fever', 'cough, fever, difficulty breathing',\n",
       "       'cough, fever, malaise', 'respiratory symptoms',\n",
       "       'fever, respiratory symptoms',\n",
       "       'acute respiratory viral infection, fever', 'discomfort, fever',\n",
       "       'cough, fever, headache, muscular soreness, weak',\n",
       "       'cough, dizziness', 'cough, fatigue, fever, weakness',\n",
       "       'cough, fever, weakness',\n",
       "       'cough, diarrhea, fever, rhinorrhoea, sneezing',\n",
       "       'anhelation, cough, fever, pleural effusion, weakness',\n",
       "       'diarrhea, fever, nasal congestion, pleuritic chest pain, sore throat',\n",
       "       'fever, cough, running nose',\n",
       "       'fever, cough, sore throat, mialgia, headache', 'Asymptomatic',\n",
       "       'Contact of hCoV-19/Brazil/SPBR-01/2020',\n",
       "       'fever, cough, nasal congestion, conjuntivitis', 'discomfort',\n",
       "       'acute respiratory syndrome', 'asymptomatic?',\n",
       "       'Rhinorrhea, pain and unwellness', 'Rhinorrhea, cough and fever',\n",
       "       'fever, cough and milagia, between others',\n",
       "       'cough, fever, respiratory problems', 'myalgia, headache, fever',\n",
       "       'fever, cough, body ache, mialgia',\n",
       "       'fever, cough, coriza, sore throath, headache, general weakness',\n",
       "       'fever, respiratory problems (lungs)',\n",
       "       'fever, cough and sore throath', 'oligosymptomatic',\n",
       "       'fever, body ache, sore throat, headache', 'asymptomatic',\n",
       "       'fever, myalgia, headache', 'fever, cough, myalgia', 'fever, weak',\n",
       "       'cough, fever, muscular soreness',\n",
       "       'chest distress, cough, expectoration, muscular soreness',\n",
       "       'dry cough, sore throat', 'severe', 'mild, runny nose',\n",
       "       'cough, headache', 'fever, sneeze',\n",
       "       'cough, muscular stiffness, weak', 'fever, pharyngeal discomfort',\n",
       "       'chills, headache, fever', 'fever, sore throat, sputum',\n",
       "       'physical discomfort', 'chest distress, dyspnea',\n",
       "       'cough, expectoration, fever', 'cough, fatigue, fever, sputum',\n",
       "       'chest tightness, dyspnea, fever', 'weakness', 'fever; cough',\n",
       "       'chest tightness, fever, nausea', 'cough, fever, muscle ache',\n",
       "       'anorexia, fatigue', 'cough, runny nose', 'cough, fever, soreness',\n",
       "       'pharynx', 'muscular soreness', 'cough, sputum',\n",
       "       'cough, sore throat, sputum', 'chills, fatigue',\n",
       "       'fever; dry cough; fatigue', 'fatigue, fever, weakness',\n",
       "       'cough, fever, runny nose', 'cough, dyspnea, fever',\n",
       "       'chills, fever, muscle aches, other symptoms',\n",
       "       'fatigue, muscle aches, sore throat',\n",
       "       'fever, sore muscle, weakness', 'chest tightness',\n",
       "       'cough, shortness of breath', 'no symptoms',\n",
       "       'cough, diarrhoea, runny nose',\n",
       "       'cough, fever, eventually showed acute left heart failure and acute coronary syndrome',\n",
       "       'cough, high fever, myalgia', 'fever, myalgia',\n",
       "       'fever;sore throat; fatigue; diarrhea',\n",
       "       'fever; sore throat;fatigue;vomiting', 'chest tightness, fever',\n",
       "       'fever, joint pain, muscle soreness', 'chills, fever',\n",
       "       'chest pain, nasal congestion', 'cough, muscle soreness, sweating',\n",
       "       'fever, muscular soreness, rigor',\n",
       "       'chills, diarrhea, dyspnea, headache, lack of energy, muscle pain',\n",
       "       'fever, pharyngalgia', 'fever, myalgia, shortness of breath',\n",
       "       'cough, fever, pneumonia, respiratory distress',\n",
       "       'chills, fever, runny nose, sore throat, wheezing',\n",
       "       'cough, respiratory problems', 'eye irritation, fever',\n",
       "       'fever, headache, runny nose', 'nausea, vomiting',\n",
       "       'fever, full body slump', 'transient fatigue',\n",
       "       'fever, dry throat, sore throat', 'fever; runny nose',\n",
       "       'dry throat; sore throat; fatigue', 'headache; dry mouth',\n",
       "       'fever; dry mouth; throat discomfort', 'pharyngeal discomfort',\n",
       "       'cough; throat discomfort',\n",
       "       'cough, discomfort, fever, other symptoms', 'Pharyngeal dryness',\n",
       "       'dry throat; dry cough', 'chest pain, cough',\n",
       "       'cough, chest tightness, dry mouth',\n",
       "       'fever; cough; fatigue; nausea', 'cough, fever, shortness breath',\n",
       "       'chills, fever, headache, sore throat',\n",
       "       'coughing, fever, muscle aches', 'cough, fever, nausea',\n",
       "       'fever, joint pain, pneumonia', 'cough, diarrheoa, vomiting',\n",
       "       'cough, fever, gasp', 'diarrhea, fever', 'chest distress, fever',\n",
       "       'chest distress, cough, fever, gasp',\n",
       "       'cough, fever, sensation of chill', 'dizziness, fever',\n",
       "       'chest distress, chest pain, fever, weak, dyspnea',\n",
       "       'cough, fever, dyspnea', 'chest discomfort, cough, fever',\n",
       "       'primary myelofibrosis', 'dyspnea, respiratory stress',\n",
       "       'cough, fatigue, fever, headache',\n",
       "       'cough, fatigure, fever, little sputum, muscular soreness',\n",
       "       'dyspnea', 'obnubilation, somnolence',\n",
       "       'cough, expectoration, emesis, fever',\n",
       "       'cold chills, muscular soreness',\n",
       "       'chest distress, cough, fatigue, fever',\n",
       "       'fatigue, shortness of breath', 'cough, fever, grasp, dyspnea',\n",
       "       'chest distress, cough, fever', 'cough, fever, grasp',\n",
       "       'fever:headache:malaise:sore throat:cough',\n",
       "       'fever:unproductive cough', 'Mild:moderate', 'Severe',\n",
       "       'cough:fever', 'fever:cold:cough', 'COVID-19 related symptoms',\n",
       "       'Mild to moderate', 'cough:rhinorrhea:sneezing:muscle pain',\n",
       "       'cough:cold:fever:aches:headache', 'cough:tired:chest pain',\n",
       "       'acute respiratory distress syndrome:severe pneumonia',\n",
       "       'acute respiratory failure:pneumonia',\n",
       "       'fever:cough:acute respiratory distress syndrome', 'fever:cough',\n",
       "       'cough:sore throat:colds', 'fever:headache:body malaise', 'none',\n",
       "       'cough:body malaise', 'fever:cough:shortness of breath',\n",
       "       'cough:colds:dysphagia', 'cough:sore throat:headache',\n",
       "       'septic shock:cardiogenic shock:acute respiratory distress syndrome:acute renal failure',\n",
       "       'fever:cough:dizziness', 'severe pneumonia',\n",
       "       'acute respiratory failure', 'multiple organ failure:pneumonia',\n",
       "       'acute respiratory distress syndrome:pneumonia',\n",
       "       'septic shock:pneumonia', 'acute respiratory distress syndrome',\n",
       "       'cardiac arrhythmia:septic shock:pneumonia',\n",
       "       'pneumonia:acute respiratory failure:heart failure',\n",
       "       'acute respiratory distress syndrome:pneumonia:septic shock',\n",
       "       'no clinical symptoms',\n",
       "       'myocardial infarction:pneumonia:multiple electrolyte imbalance',\n",
       "       'acute respiratory disease',\n",
       "       'acute respiratory distress:pneumonia',\n",
       "       'acute myocardial infarction',\n",
       "       'acute coronary syndrome:congestive heart failure:severe acute respiratory infection',\n",
       "       'acute respiratory failure:pneumonia:sepsis',\n",
       "       'acute respiratory distress syndrome:septic shock:pneumonia',\n",
       "       'acute respiratory failure:sepsis:pneumonia',\n",
       "       'cardiogenic shock:acute coronary syndrome:heart failure:pneumonia',\n",
       "       'acute respiratory failure:pneumonia:myocardial infarction',\n",
       "       'acute kidney injury:septic shock:acute respiratory distress syndrome',\n",
       "       'arrhythmia:acute respiratory distress syndrome:pneumonia',\n",
       "       'sepsis:pneumonia',\n",
       "       'acute respiratory distress syndrome:pneumonia:acute respiratory failure',\n",
       "       'acute respiratory failure:acute kidney injury',\n",
       "       'acute respiratory failure:myocardial dysfunction',\n",
       "       'acute respiratory distress syndrome:septic shock:pneumonia:gastritis:acute kidney injury',\n",
       "       'heart failure:pneumonia', 'pneumonia:congestive heart failure',\n",
       "       'cardiac arrhythmia:pneumonia',\n",
       "       'myocardial infarction:acute respiratory distress syndrome:pneumonia',\n",
       "       'cardiopulmonary arrest; acute respiratory failure; pneumonia',\n",
       "       'arrhythmia:septic shock:acute respiratory disease syndrome: acute kidney injury',\n",
       "       'acute respiratory failure:severe acute respiratory distress syndrome:pneumonia:septic shock',\n",
       "       'arrhythmia:sepsis:acute respiratory distress syndrome:pneumonia:acute kidney injury',\n",
       "       'acute respiratory distress syndrome:pneumonia:hypoxia',\n",
       "       'cardiopulmonary arrest: acute respiratory distress syndrome: pneumonia: hypoxia',\n",
       "       'acute respiratory distress syndrome:septic shock',\n",
       "       'acute respiratory distress syndrome: pneumonia', 'fever, chills',\n",
       "       'fever, cough, sore throat', 'mild respiratory symptoms',\n",
       "       'significant clinical suspicion', 'fever, general weakness, cough',\n",
       "       'fever, general weakness',\n",
       "       'headache, general weakness, runny nose, acute respiratory distress syndrome',\n",
       "       'headache, general weakness, runny nose, mialgia',\n",
       "       'febre, tosse, e sintomas respirat‚àö‚â•rios moderados',\n",
       "       'chest pain, respiratory distress, fever, dysphagia, asthenia, weakness, fatigue',\n",
       "       'fever, cough and general malaise',\n",
       "       'Symptoms associated with a respiratory condition',\n",
       "       'Mild respiratory symptoms',\n",
       "       'Mild resipiratory symptoms, then on March 4 had feverish symptoms',\n",
       "       'fever, cough, headache',\n",
       "       'first asymptomatic, devleoped mild respiratory sypmptoms (got over virus before being tested)',\n",
       "       'Respiratory symptoms', 'Catarrhal symptoms', 'catarrhal symptoms',\n",
       "       'Respiratory', 'severe respiratory failure', 'respiratory',\n",
       "       'pnuemonia', 'Pneumonia',\n",
       "       'respiratory difficult breathing died same day',\n",
       "       'torpid evolution with respiratory distress and severe bronchopneumonia',\n",
       "       'Respiratory & Pnuemonia-died 6/4/2020', 'Pnuemonia',\n",
       "       'kidney failure'], dtype=object)"
      ]
     },
     "execution_count": 38,
     "metadata": {},
     "output_type": "execute_result"
    }
   ],
   "source": [
    "# Data extraction from symptoms\n",
    "c_data[\"symptoms\"].unique()"
   ]
  },
  {
   "cell_type": "code",
   "execution_count": 37,
   "metadata": {},
   "outputs": [
    {
     "data": {
      "text/plain": [
       "253576                    pneumonitis\n",
       "290019    fever, respiratory symptoms\n",
       "127521                          fever\n",
       "108603               Mild to moderate\n",
       "381573                   cough, fever\n",
       "108580               Mild to moderate\n",
       "130133                     fever 38.3\n",
       "426924      cough, fever, sore throat\n",
       "12578                    fever, cough\n",
       "108555               Mild to moderate\n",
       "Name: symptoms, dtype: object"
      ]
     },
     "execution_count": 37,
     "metadata": {},
     "output_type": "execute_result"
    }
   ],
   "source": [
    "noNullSymptoms[\"symptoms\"].sample(10)"
   ]
  },
  {
   "cell_type": "code",
   "execution_count": 39,
   "metadata": {},
   "outputs": [
    {
     "data": {
      "text/plain": [
       "24"
      ]
     },
     "execution_count": 39,
     "metadata": {},
     "output_type": "execute_result"
    }
   ],
   "source": [
    "fuzz.ratio(\"chills\", \"pneumonitis\")"
   ]
  },
  {
   "cell_type": "code",
   "execution_count": 61,
   "metadata": {},
   "outputs": [],
   "source": [
    "def extractFuzzy(rowVal, testStrings):\n",
    "    for s in testStrings:\n",
    "        if (fuzz.ratio(s, rowVal) > 90):\n",
    "            return 1\n",
    "    return 0"
   ]
  },
  {
   "cell_type": "code",
   "execution_count": 92,
   "metadata": {},
   "outputs": [],
   "source": [
    "# This is a boolean array that will select\n",
    "# Only the columns in our data which\n",
    "# contain symptom values.\n",
    "indexSymptoms = np.logical_not(np.array(c_data[\"symptoms\"].isna()))"
   ]
  },
  {
   "cell_type": "code",
   "execution_count": 84,
   "metadata": {},
   "outputs": [
    {
     "data": {
      "text/plain": [
       "476         fever, severe pneumonia\n",
       "504                           fever\n",
       "756       cough, fever, sore throat\n",
       "765                    cough, fever\n",
       "767                  dyspnea, fever\n",
       "                    ...            \n",
       "629940                        cough\n",
       "642814                         mild\n",
       "643762         cough, fever, nausea\n",
       "643772                        cough\n",
       "645994                         mild\n",
       "Name: symptoms, Length: 2053, dtype: object"
      ]
     },
     "execution_count": 84,
     "metadata": {},
     "output_type": "execute_result"
    }
   ],
   "source": [
    "c_data.loc[indexSymptoms,\"symptoms\"]"
   ]
  },
  {
   "cell_type": "code",
   "execution_count": 89,
   "metadata": {},
   "outputs": [
    {
     "ename": "NameError",
     "evalue": "name 'npSymptomIndieces' is not defined",
     "output_type": "error",
     "traceback": [
      "\u001b[1;31m---------------------------------------------------------------------------\u001b[0m",
      "\u001b[1;31mNameError\u001b[0m                                 Traceback (most recent call last)",
      "\u001b[1;32m<ipython-input-89-c6e72e5cb5de>\u001b[0m in \u001b[0;36m<module>\u001b[1;34m\u001b[0m\n\u001b[0;32m      1\u001b[0m \u001b[0mc_data\u001b[0m\u001b[1;33m.\u001b[0m\u001b[0mloc\u001b[0m\u001b[1;33m[\u001b[0m\u001b[0mnpSymptomIndices\u001b[0m\u001b[1;33m,\u001b[0m\u001b[1;34m\"fever\"\u001b[0m\u001b[1;33m]\u001b[0m \u001b[1;33m=\u001b[0m \u001b[0mc_data\u001b[0m\u001b[1;33m.\u001b[0m\u001b[0mloc\u001b[0m\u001b[1;33m[\u001b[0m\u001b[0mnpSymptomIndices\u001b[0m\u001b[1;33m,\u001b[0m\u001b[1;34m\"symptoms\"\u001b[0m\u001b[1;33m]\u001b[0m\u001b[1;33m.\u001b[0m\u001b[0mapply\u001b[0m\u001b[1;33m(\u001b[0m\u001b[0mextractFuzzy\u001b[0m\u001b[1;33m,\u001b[0m \u001b[0margs\u001b[0m\u001b[1;33m=\u001b[0m\u001b[1;33m(\u001b[0m\u001b[1;33m[\u001b[0m\u001b[1;33m[\u001b[0m\u001b[1;34m\"fever\"\u001b[0m\u001b[1;33m,\u001b[0m \u001b[1;34m\"chills\"\u001b[0m\u001b[1;33m]\u001b[0m\u001b[1;33m]\u001b[0m\u001b[1;33m)\u001b[0m\u001b[1;33m)\u001b[0m\u001b[1;33m\u001b[0m\u001b[1;33m\u001b[0m\u001b[0m\n\u001b[1;32m----> 2\u001b[1;33m \u001b[0mc_data\u001b[0m\u001b[1;33m[\u001b[0m\u001b[0mnpSymptomIndieces\u001b[0m\u001b[1;33m]\u001b[0m\u001b[1;33m.\u001b[0m\u001b[0mhead\u001b[0m\u001b[1;33m(\u001b[0m\u001b[1;33m)\u001b[0m\u001b[1;33m\u001b[0m\u001b[1;33m\u001b[0m\u001b[0m\n\u001b[0m",
      "\u001b[1;31mNameError\u001b[0m: name 'npSymptomIndieces' is not defined"
     ]
    }
   ],
   "source": [
    "c_data.loc[indexSymptoms,\"fever\"] = c_data.loc[indexSymptoms,\"symptoms\"].apply(extractFuzzy, args=([[\"fever\", \"chills\"]]))\n",
    "c_data[indexSymptoms].head()"
   ]
  },
  {
   "cell_type": "code",
   "execution_count": 64,
   "metadata": {},
   "outputs": [
    {
     "data": {
      "text/plain": [
       "0    1733\n",
       "1     320\n",
       "Name: fever, dtype: int64"
      ]
     },
     "execution_count": 64,
     "metadata": {},
     "output_type": "execute_result"
    }
   ],
   "source": [
    "noNullSymptoms[\"fever\"].value_counts()"
   ]
  },
  {
   "cell_type": "code",
   "execution_count": 34,
   "metadata": {},
   "outputs": [],
   "source": [
    "c_data.to_csv(\"covid19_cleaned.zip\", compression=\"zip\")"
   ]
  },
  {
   "cell_type": "code",
   "execution_count": null,
   "metadata": {},
   "outputs": [],
   "source": []
  }
 ],
 "metadata": {
  "kernelspec": {
   "display_name": "Python 3",
   "language": "python",
   "name": "python3"
  },
  "language_info": {
   "codemirror_mode": {
    "name": "ipython",
    "version": 3
   },
   "file_extension": ".py",
   "mimetype": "text/x-python",
   "name": "python",
   "nbconvert_exporter": "python",
   "pygments_lexer": "ipython3",
   "version": "3.7.6"
  }
 },
 "nbformat": 4,
 "nbformat_minor": 4
}
