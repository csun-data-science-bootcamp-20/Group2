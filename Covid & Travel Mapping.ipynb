{
 "cells": [
  {
   "cell_type": "code",
   "execution_count": 1,
   "metadata": {},
   "outputs": [],
   "source": [
    "import pandas as pd\n",
    "import matplotlib.pyplot as plt\n",
    "import numpy as np\n",
    "from ipyleaflet import AwesomeIcon, Map, Marker, MarkerCluster, SplitMapControl\n",
    "from geopy.geocoders import Nominatim\n"
   ]
  },
  {
   "cell_type": "code",
   "execution_count": 2,
   "metadata": {},
   "outputs": [
    {
     "name": "stderr",
     "output_type": "stream",
     "text": [
      "C:\\Users\\dpale\\anaconda3\\lib\\site-packages\\IPython\\core\\interactiveshell.py:3063: DtypeWarning: Columns (9,10,12,13,14,15,17,18,19,20,21) have mixed types.Specify dtype option on import or set low_memory=False.\n",
      "  interactivity=interactivity, compiler=compiler, result=result)\n"
     ]
    }
   ],
   "source": [
    "c_data = pd.read_csv(\"covid19_cleaned_8_10.zip\")\n",
    "countries = pd.read_csv(\"countries.csv\")"
   ]
  },
  {
   "cell_type": "code",
   "execution_count": 3,
   "metadata": {},
   "outputs": [
    {
     "data": {
      "text/plain": [
       "Index(['Unnamed: 0', 'ID', 'age', 'sex', 'city', 'province', 'country',\n",
       "       'latitude', 'longitude', 'date_onset_symptoms',\n",
       "       'date_admission_hospital', 'date_confirmation', 'symptoms',\n",
       "       'travel_history_dates', 'travel_history_location',\n",
       "       'reported_market_exposure', 'chronic_disease_binary', 'chronic_disease',\n",
       "       'outcome', 'date_death_or_discharge', 'admin3', 'admin2', 'admin1',\n",
       "       'travel_history_binary', 'hospitalized', 'deceased', 'fever', 'cough',\n",
       "       'fatigue', 'headache', 'dizziness', 'sore throat', 'pneumonia',\n",
       "       'respiratory', 'nausea', 'diarrhea', 'severe_r'],\n",
       "      dtype='object')"
      ]
     },
     "execution_count": 3,
     "metadata": {},
     "output_type": "execute_result"
    }
   ],
   "source": [
    "c_data.columns"
   ]
  },
  {
   "cell_type": "code",
   "execution_count": 4,
   "metadata": {},
   "outputs": [],
   "source": [
    "locations = c_data[['latitude', 'longitude', \"country\", \"city\", \"travel_history_binary\"]]\n",
    "locations = locations.dropna()"
   ]
  },
  {
   "cell_type": "code",
   "execution_count": 5,
   "metadata": {},
   "outputs": [
    {
     "data": {
      "text/plain": [
       "0    1425997\n",
       "1      14267\n",
       "Name: travel_history_binary, dtype: int64"
      ]
     },
     "execution_count": 5,
     "metadata": {},
     "output_type": "execute_result"
    }
   ],
   "source": [
    "locations[\"travel_history_binary\"].value_counts()"
   ]
  },
  {
   "cell_type": "code",
   "execution_count": null,
   "metadata": {},
   "outputs": [],
   "source": [
    "len(countries.loc[countries[\"name\"] == \"Uniteasd States\", \"latitude\"])"
   ]
  },
  {
   "cell_type": "code",
   "execution_count": null,
   "metadata": {},
   "outputs": [],
   "source": [
    "def applyLat(c):\n",
    "    if len(countries.loc[countries[\"name\"] == c, \"latitude\"]) == 0:\n",
    "        return 0\n",
    "    return countries.loc[countries[\"name\"] == c, \"latitude\"].values[0]\n",
    "\n",
    "def applyLong(c):\n",
    "    if len(countries.loc[countries[\"name\"] == c, \"longitude\"]) == 0:\n",
    "        return 0\n",
    "    return countries.loc[countries[\"name\"] == c, \"longitude\"].values[0]\n",
    "locations[\"country_lat\"] =  locations[\"country\"].apply(applyLat)\n",
    "locations[\"country_long\"] =  locations[\"country\"].apply(applyLong)\n"
   ]
  },
  {
   "cell_type": "code",
   "execution_count": 5,
   "metadata": {},
   "outputs": [
    {
     "data": {
      "text/html": [
       "<div>\n",
       "<style scoped>\n",
       "    .dataframe tbody tr th:only-of-type {\n",
       "        vertical-align: middle;\n",
       "    }\n",
       "\n",
       "    .dataframe tbody tr th {\n",
       "        vertical-align: top;\n",
       "    }\n",
       "\n",
       "    .dataframe thead th {\n",
       "        text-align: right;\n",
       "    }\n",
       "</style>\n",
       "<table border=\"1\" class=\"dataframe\">\n",
       "  <thead>\n",
       "    <tr style=\"text-align: right;\">\n",
       "      <th></th>\n",
       "      <th>latitude</th>\n",
       "      <th>longitude</th>\n",
       "      <th>country</th>\n",
       "      <th>city</th>\n",
       "      <th>travel_history_binary</th>\n",
       "    </tr>\n",
       "  </thead>\n",
       "  <tbody>\n",
       "    <tr>\n",
       "      <th>0</th>\n",
       "      <td>22.365019</td>\n",
       "      <td>114.133808</td>\n",
       "      <td>China</td>\n",
       "      <td>Shek Lei</td>\n",
       "      <td>0</td>\n",
       "    </tr>\n",
       "    <tr>\n",
       "      <th>1</th>\n",
       "      <td>45.297748</td>\n",
       "      <td>11.658382</td>\n",
       "      <td>Italy</td>\n",
       "      <td>Vo Euganeo</td>\n",
       "      <td>0</td>\n",
       "    </tr>\n",
       "    <tr>\n",
       "      <th>3</th>\n",
       "      <td>34.629310</td>\n",
       "      <td>113.468000</td>\n",
       "      <td>China</td>\n",
       "      <td>Zhengzhou City</td>\n",
       "      <td>0</td>\n",
       "    </tr>\n",
       "    <tr>\n",
       "      <th>4</th>\n",
       "      <td>27.513560</td>\n",
       "      <td>113.902900</td>\n",
       "      <td>China</td>\n",
       "      <td>Pingxiang City</td>\n",
       "      <td>0</td>\n",
       "    </tr>\n",
       "    <tr>\n",
       "      <th>5</th>\n",
       "      <td>28.307550</td>\n",
       "      <td>114.973200</td>\n",
       "      <td>China</td>\n",
       "      <td>Yichun City</td>\n",
       "      <td>0</td>\n",
       "    </tr>\n",
       "    <tr>\n",
       "      <th>...</th>\n",
       "      <td>...</td>\n",
       "      <td>...</td>\n",
       "      <td>...</td>\n",
       "      <td>...</td>\n",
       "      <td>...</td>\n",
       "    </tr>\n",
       "    <tr>\n",
       "      <th>2309941</th>\n",
       "      <td>52.302440</td>\n",
       "      <td>-0.696320</td>\n",
       "      <td>United Kingdom</td>\n",
       "      <td>Wellingborough,Northamptonshire</td>\n",
       "      <td>0</td>\n",
       "    </tr>\n",
       "    <tr>\n",
       "      <th>2309952</th>\n",
       "      <td>51.400900</td>\n",
       "      <td>-1.323500</td>\n",
       "      <td>United Kingdom</td>\n",
       "      <td>West Berkshire,Berkshire</td>\n",
       "      <td>0</td>\n",
       "    </tr>\n",
       "    <tr>\n",
       "      <th>2309963</th>\n",
       "      <td>53.600263</td>\n",
       "      <td>-2.870291</td>\n",
       "      <td>United Kingdom</td>\n",
       "      <td>West Lancashire,Lancashire</td>\n",
       "      <td>0</td>\n",
       "    </tr>\n",
       "    <tr>\n",
       "      <th>2309974</th>\n",
       "      <td>51.837658</td>\n",
       "      <td>-1.506852</td>\n",
       "      <td>United Kingdom</td>\n",
       "      <td>West Oxfordshire,Oxfordshire</td>\n",
       "      <td>0</td>\n",
       "    </tr>\n",
       "    <tr>\n",
       "      <th>2309985</th>\n",
       "      <td>52.232350</td>\n",
       "      <td>0.709380</td>\n",
       "      <td>United Kingdom</td>\n",
       "      <td>West Suffolk,Suffolk</td>\n",
       "      <td>0</td>\n",
       "    </tr>\n",
       "  </tbody>\n",
       "</table>\n",
       "<p>1440264 rows × 5 columns</p>\n",
       "</div>"
      ],
      "text/plain": [
       "          latitude   longitude         country  \\\n",
       "0        22.365019  114.133808           China   \n",
       "1        45.297748   11.658382           Italy   \n",
       "3        34.629310  113.468000           China   \n",
       "4        27.513560  113.902900           China   \n",
       "5        28.307550  114.973200           China   \n",
       "...            ...         ...             ...   \n",
       "2309941  52.302440   -0.696320  United Kingdom   \n",
       "2309952  51.400900   -1.323500  United Kingdom   \n",
       "2309963  53.600263   -2.870291  United Kingdom   \n",
       "2309974  51.837658   -1.506852  United Kingdom   \n",
       "2309985  52.232350    0.709380  United Kingdom   \n",
       "\n",
       "                                    city  travel_history_binary  \n",
       "0                               Shek Lei                      0  \n",
       "1                             Vo Euganeo                      0  \n",
       "3                         Zhengzhou City                      0  \n",
       "4                         Pingxiang City                      0  \n",
       "5                            Yichun City                      0  \n",
       "...                                  ...                    ...  \n",
       "2309941  Wellingborough,Northamptonshire                      0  \n",
       "2309952         West Berkshire,Berkshire                      0  \n",
       "2309963       West Lancashire,Lancashire                      0  \n",
       "2309974     West Oxfordshire,Oxfordshire                      0  \n",
       "2309985             West Suffolk,Suffolk                      0  \n",
       "\n",
       "[1440264 rows x 5 columns]"
      ]
     },
     "execution_count": 5,
     "metadata": {},
     "output_type": "execute_result"
    }
   ],
   "source": [
    "locations"
   ]
  },
  {
   "cell_type": "code",
   "execution_count": 6,
   "metadata": {},
   "outputs": [
    {
     "data": {
      "text/plain": [
       "latitude                 float64\n",
       "longitude                float64\n",
       "country                   object\n",
       "city                      object\n",
       "travel_history_binary      int64\n",
       "dtype: object"
      ]
     },
     "execution_count": 6,
     "metadata": {},
     "output_type": "execute_result"
    }
   ],
   "source": [
    "locations.dtypes"
   ]
  },
  {
   "cell_type": "code",
   "execution_count": 7,
   "metadata": {},
   "outputs": [],
   "source": [
    "locationsUS = locations[locations[\"country\"] == \"United States\"]"
   ]
  },
  {
   "cell_type": "code",
   "execution_count": 8,
   "metadata": {},
   "outputs": [
    {
     "data": {
      "text/plain": [
       "40.661000    20325\n",
       "41.162492     4679\n",
       "40.739947     3241\n",
       "40.876838     2058\n",
       "47.491332     1666\n",
       "             ...  \n",
       "47.737285        1\n",
       "46.084525        1\n",
       "43.987557        1\n",
       "29.320694        1\n",
       "41.773382        1\n",
       "Name: latitude, Length: 1272, dtype: int64"
      ]
     },
     "execution_count": 8,
     "metadata": {},
     "output_type": "execute_result"
    }
   ],
   "source": [
    "locationsUS[\"latitude\"].value_counts()"
   ]
  },
  {
   "cell_type": "code",
   "execution_count": 9,
   "metadata": {},
   "outputs": [],
   "source": [
    "latitudes = locationsUS[\"latitude\"].to_numpy()\n",
    "longitudes = locationsUS[\"longitude\"].to_numpy()\n",
    "circle = AwesomeIcon(\n",
    "    name=\"fa-circle\"\n",
    ")\n",
    "pairs = [Marker(icon=circle, location=(lat, long)) for lat, long in zip(latitudes, longitudes)]"
   ]
  },
  {
   "cell_type": "code",
   "execution_count": 14,
   "metadata": {},
   "outputs": [],
   "source": [
    "marker_cluster = MarkerCluster(\n",
    "    markers = pairs\n",
    ")"
   ]
  },
  {
   "cell_type": "code",
   "execution_count": 12,
   "metadata": {},
   "outputs": [],
   "source": [
    "m = Map(center=((-29.9216045, -122.53391)), zoom=5)\n",
    "m.add_layer(marker_cluster)"
   ]
  },
  {
   "cell_type": "code",
   "execution_count": 13,
   "metadata": {},
   "outputs": [
    {
     "data": {
      "application/vnd.jupyter.widget-view+json": {
       "model_id": "e34053cedc5e4f02b8406dd5234077ba",
       "version_major": 2,
       "version_minor": 0
      },
      "text/plain": [
       "Map(center=[-29.9216045, -122.53391], controls=(ZoomControl(options=['position', 'zoom_in_text', 'zoom_in_titl…"
      ]
     },
     "metadata": {},
     "output_type": "display_data"
    }
   ],
   "source": [
    "display(m)"
   ]
  },
  {
   "cell_type": "code",
   "execution_count": 15,
   "metadata": {},
   "outputs": [],
   "source": [
    "# Only the cases in the US that traveled\n",
    "onlyTraveled = locationsUS[locationsUS[\"travel_history_binary\"] == 1]"
   ]
  },
  {
   "cell_type": "code",
   "execution_count": 16,
   "metadata": {},
   "outputs": [],
   "source": [
    "t_latitudes = onlyTraveled[\"latitude\"].to_numpy()\n",
    "t_longitudes = onlyTraveled[\"longitude\"].to_numpy()\n",
    "circle = AwesomeIcon(\n",
    "    name=\"fa-circle\"\n",
    ")\n",
    "t_pairs = [Marker(icon=circle, location=(lat, long)) for lat, long in zip(t_latitudes, t_longitudes)]"
   ]
  },
  {
   "cell_type": "code",
   "execution_count": 17,
   "metadata": {},
   "outputs": [
    {
     "data": {
      "text/plain": [
       "[Marker(icon=AwesomeIcon(name='fa-circle'), location=[41.2955677, -96.153827], options=['alt', 'draggable', 'keyboard', 'rise_offset', 'rise_on_hover', 'rotation_angle', 'rotation_origin', 'title', 'z_index_offset']),\n",
       " Marker(icon=AwesomeIcon(name='fa-circle'), location=[41.2955677, -96.153827], options=['alt', 'draggable', 'keyboard', 'rise_offset', 'rise_on_hover', 'rotation_angle', 'rotation_origin', 'title', 'z_index_offset']),\n",
       " Marker(icon=AwesomeIcon(name='fa-circle'), location=[41.2955677, -96.153827], options=['alt', 'draggable', 'keyboard', 'rise_offset', 'rise_on_hover', 'rotation_angle', 'rotation_origin', 'title', 'z_index_offset']),\n",
       " Marker(icon=AwesomeIcon(name='fa-circle'), location=[41.2955677, -96.153827], options=['alt', 'draggable', 'keyboard', 'rise_offset', 'rise_on_hover', 'rotation_angle', 'rotation_origin', 'title', 'z_index_offset']),\n",
       " Marker(icon=AwesomeIcon(name='fa-circle'), location=[60.379254, 149.68531299999995], options=['alt', 'draggable', 'keyboard', 'rise_offset', 'rise_on_hover', 'rotation_angle', 'rotation_origin', 'title', 'z_index_offset']),\n",
       " Marker(icon=AwesomeIcon(name='fa-circle'), location=[21.4584559, -157.97316], options=['alt', 'draggable', 'keyboard', 'rise_offset', 'rise_on_hover', 'rotation_angle', 'rotation_origin', 'title', 'z_index_offset']),\n",
       " Marker(icon=AwesomeIcon(name='fa-circle'), location=[21.4584559, -157.97316], options=['alt', 'draggable', 'keyboard', 'rise_offset', 'rise_on_hover', 'rotation_angle', 'rotation_origin', 'title', 'z_index_offset']),\n",
       " Marker(icon=AwesomeIcon(name='fa-circle'), location=[41.049286, -100.74433], options=['alt', 'draggable', 'keyboard', 'rise_offset', 'rise_on_hover', 'rotation_angle', 'rotation_origin', 'title', 'z_index_offset']),\n",
       " Marker(icon=AwesomeIcon(name='fa-circle'), location=[41.049286, -100.74433], options=['alt', 'draggable', 'keyboard', 'rise_offset', 'rise_on_hover', 'rotation_angle', 'rotation_origin', 'title', 'z_index_offset']),\n",
       " Marker(icon=AwesomeIcon(name='fa-circle'), location=[40.38834, -95.84994], options=['alt', 'draggable', 'keyboard', 'rise_offset', 'rise_on_hover', 'rotation_angle', 'rotation_origin', 'title', 'z_index_offset'])]"
      ]
     },
     "execution_count": 17,
     "metadata": {},
     "output_type": "execute_result"
    }
   ],
   "source": [
    "t_pairs"
   ]
  },
  {
   "cell_type": "code",
   "execution_count": 18,
   "metadata": {},
   "outputs": [],
   "source": [
    "travel_cluster = MarkerCluster(\n",
    "    markers = t_pairs\n",
    ")"
   ]
  },
  {
   "cell_type": "code",
   "execution_count": 22,
   "metadata": {},
   "outputs": [],
   "source": [
    "m2 = Map(center=((-29.9216045, -122.53391)), zoom=5)\n",
    "m2.add_layer(travel_cluster)\n"
   ]
  },
  {
   "cell_type": "code",
   "execution_count": 23,
   "metadata": {},
   "outputs": [
    {
     "data": {
      "application/vnd.jupyter.widget-view+json": {
       "model_id": "ba2aa29885eb4ae986793becc0fc80d2",
       "version_major": 2,
       "version_minor": 0
      },
      "text/plain": [
       "Map(center=[-29.9216045, -122.53391], controls=(ZoomControl(options=['position', 'zoom_in_text', 'zoom_in_titl…"
      ]
     },
     "metadata": {},
     "output_type": "display_data"
    }
   ],
   "source": [
    "display(m2)"
   ]
  },
  {
   "cell_type": "code",
   "execution_count": null,
   "metadata": {},
   "outputs": [],
   "source": []
  }
 ],
 "metadata": {
  "kernelspec": {
   "display_name": "Python 3",
   "language": "python",
   "name": "python3"
  },
  "language_info": {
   "codemirror_mode": {
    "name": "ipython",
    "version": 3
   },
   "file_extension": ".py",
   "mimetype": "text/x-python",
   "name": "python",
   "nbconvert_exporter": "python",
   "pygments_lexer": "ipython3",
   "version": "3.7.6"
  }
 },
 "nbformat": 4,
 "nbformat_minor": 4
}
